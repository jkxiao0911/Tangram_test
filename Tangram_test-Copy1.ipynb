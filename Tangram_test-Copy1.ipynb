{
 "cells": [
  {
   "cell_type": "code",
   "execution_count": 3,
   "id": "b73e19c2-b050-44c9-862a-7c6ca017c887",
   "metadata": {},
   "outputs": [
    {
     "name": "stdout",
     "output_type": "stream",
     "text": [
      "scanpy==1.9.3 anndata==0.9.2 umap==0.5.3 numpy==1.22.4 scipy==1.10.1 pandas==2.0.3 scikit-learn==1.3.0 statsmodels==0.14.0 python-igraph==0.10.6 pynndescent==0.5.10\n",
      "squidpy==1.2.3\n"
     ]
    }
   ],
   "source": [
    "import scanpy as sc\n",
    "import squidpy as sq\n",
    "import numpy as np\n",
    "import pandas as pd\n",
    "from anndata import AnnData\n",
    "import pathlib\n",
    "import matplotlib.pyplot as plt\n",
    "import matplotlib as mpl\n",
    "import skimage\n",
    "import seaborn as sns\n",
    "import tangram as tg\n",
    "\n",
    "sc.logging.print_header()\n",
    "print(f\"squidpy=={sq.__version__}\")\n",
    "\n",
    "%load_ext autoreload\n",
    "%autoreload 2\n",
    "%matplotlib inline"
   ]
  },
  {
   "cell_type": "code",
   "execution_count": 2,
   "id": "3b1b4f1c-2cec-4ae6-9f14-1d4586ac2c3f",
   "metadata": {
    "tags": []
   },
   "outputs": [],
   "source": [
    "adata_st = sq.datasets.visium_fluo_adata_crop()"
   ]
  },
  {
   "cell_type": "code",
   "execution_count": 3,
   "id": "3496c625-c706-419a-9fc1-84674d423948",
   "metadata": {
    "tags": []
   },
   "outputs": [
    {
     "data": {
      "text/plain": [
       "AnnData object with n_obs × n_vars = 704 × 16562\n",
       "    obs: 'in_tissue', 'array_row', 'array_col', 'n_genes_by_counts', 'log1p_n_genes_by_counts', 'total_counts', 'log1p_total_counts', 'pct_counts_in_top_50_genes', 'pct_counts_in_top_100_genes', 'pct_counts_in_top_200_genes', 'pct_counts_in_top_500_genes', 'total_counts_MT', 'log1p_total_counts_MT', 'pct_counts_MT', 'n_counts', 'leiden', 'cluster'\n",
       "    var: 'gene_ids', 'feature_types', 'genome', 'MT', 'n_cells_by_counts', 'mean_counts', 'log1p_mean_counts', 'pct_dropout_by_counts', 'total_counts', 'log1p_total_counts', 'n_cells', 'highly_variable', 'highly_variable_rank', 'means', 'variances', 'variances_norm'\n",
       "    uns: 'cluster_colors', 'hvg', 'leiden', 'leiden_colors', 'neighbors', 'pca', 'spatial', 'umap'\n",
       "    obsm: 'X_pca', 'X_umap', 'spatial'\n",
       "    varm: 'PCs'\n",
       "    obsp: 'connectivities', 'distances'"
      ]
     },
     "execution_count": 3,
     "metadata": {},
     "output_type": "execute_result"
    }
   ],
   "source": [
    "adata_st"
   ]
  },
  {
   "cell_type": "code",
   "execution_count": 1,
   "id": "3eff21cb-f894-4556-8c35-e0fa93b988da",
   "metadata": {
    "tags": []
   },
   "outputs": [],
   "source": [
    "adata_st = adata_st[\n",
    "    adata_st.obs.cluster.isin([f\"Cortex_{i}\" for i in np.arange(1, 5)])\n",
    "].copy()\n",
    "img = sq.datasets.visium_fluo_image_crop()"
   ]
  },
  {
   "cell_type": "code",
   "execution_count": 4,
   "id": "e46f32ee-b6a8-4511-935c-473cec4aac1e",
   "metadata": {
    "tags": []
   },
   "outputs": [],
   "source": [
    "adata_sc = sq.datasets.sc_mouse_cortex()"
   ]
  },
  {
   "cell_type": "code",
   "execution_count": 7,
   "id": "4fa30f39-9419-4357-a7c7-d2799c461526",
   "metadata": {},
   "outputs": [
    {
     "data": {
      "text/plain": [
       "399744.0"
      ]
     },
     "execution_count": 7,
     "metadata": {},
     "output_type": "execute_result"
    }
   ],
   "source": [
    "adata_sc.raw.X.max()"
   ]
  },
  {
   "cell_type": "code",
   "execution_count": null,
   "id": "016d3552-84fa-4cbc-8178-448f31a87a49",
   "metadata": {
    "tags": []
   },
   "outputs": [],
   "source": [
    "adata_st.uns['spatial']"
   ]
  },
  {
   "cell_type": "code",
   "execution_count": null,
   "id": "71f39867-1321-47b2-8786-2463b94f0ccc",
   "metadata": {
    "tags": []
   },
   "outputs": [],
   "source": [
    "fig, axs = plt.subplots(1, 2, figsize=(20, 5))\n",
    "sc.pl.spatial(\n",
    "    adata_st, color=\"cluster\", alpha=0.7, frameon=False, show=False, ax=axs[0]\n",
    ")\n",
    "sc.pl.umap(\n",
    "    adata_sc, color=\"cell_subclass\", size=10, frameon=False, show=False, ax=axs[1]\n",
    ")\n",
    "plt.tight_layout()"
   ]
  },
  {
   "cell_type": "code",
   "execution_count": null,
   "id": "5c8f9ac8-6903-4c01-80ff-086a60dd8462",
   "metadata": {
    "tags": []
   },
   "outputs": [],
   "source": [
    "sc.tl.rank_genes_groups(adata_sc, groupby=\"cell_subclass\", use_raw=False)\n",
    "markers_df = pd.DataFrame(adata_sc.uns[\"rank_genes_groups\"][\"names\"]).iloc[0:100, :]\n",
    "markers = list(np.unique(markers_df.melt().value.values))\n",
    "len(markers)"
   ]
  },
  {
   "cell_type": "code",
   "execution_count": null,
   "id": "fd968f97-3af3-47a0-beb2-4f9c3be9220c",
   "metadata": {
    "tags": []
   },
   "outputs": [],
   "source": [
    "tg.pp_adatas(adata_sc, adata_st, genes=markers)"
   ]
  },
  {
   "cell_type": "code",
   "execution_count": null,
   "id": "7b50352b-83c3-4dee-aeb2-a3043dd1f27f",
   "metadata": {
    "tags": []
   },
   "outputs": [],
   "source": [
    "ad_map = tg.map_cells_to_space(adata_sc, adata_st,\n",
    "    mode=\"cells\",\n",
    "#     mode=\"clusters\",\n",
    "#     cluster_label='cell_subclass',  # .obs field w cell types\n",
    "    density_prior='rna_count_based',\n",
    "    num_epochs=500,\n",
    "    # device=\"cuda:0\",\n",
    "    device='cpu',\n",
    ")"
   ]
  },
  {
   "cell_type": "code",
   "execution_count": null,
   "id": "ccbacbc7-0310-4464-a547-939aa17769d3",
   "metadata": {
    "tags": []
   },
   "outputs": [],
   "source": [
    "ad_map"
   ]
  },
  {
   "cell_type": "code",
   "execution_count": null,
   "id": "e51ff1cd-761d-41d9-b94f-59d6dd142a1d",
   "metadata": {
    "tags": []
   },
   "outputs": [],
   "source": [
    "tg.project_cell_annotations(ad_map, adata_st, annotation=\"cell_subclass\")\n",
    "annotation_list = list(pd.unique(adata_sc.obs['cell_subclass']))\n",
    "tg.plot_cell_annotation_sc(adata_st, annotation_list,perc=0.02)"
   ]
  },
  {
   "cell_type": "code",
   "execution_count": null,
   "id": "d38736af-e797-4084-868d-d20fb4a58a7e",
   "metadata": {
    "tags": []
   },
   "outputs": [],
   "source": [
    "tg.plot_training_scores(ad_map, bins=20, alpha=.5)"
   ]
  },
  {
   "cell_type": "code",
   "execution_count": null,
   "id": "2fa3f540-6725-4110-aca4-388994da5299",
   "metadata": {
    "tags": []
   },
   "outputs": [],
   "source": [
    "ad_map.uns['train_genes_df']"
   ]
  },
  {
   "cell_type": "code",
   "execution_count": null,
   "id": "cb377b34-4a27-4078-999a-14a1ba9424ed",
   "metadata": {
    "tags": []
   },
   "outputs": [],
   "source": [
    "ad_ge = tg.project_genes(adata_map=ad_map, adata_sc=adata_sc)\n",
    "ad_ge"
   ]
  },
  {
   "cell_type": "code",
   "execution_count": null,
   "id": "9807c22c-e8ab-412d-a27a-3a96756f238c",
   "metadata": {
    "tags": []
   },
   "outputs": [],
   "source": [
    "genes = ['rragb', 'trim17', 'eno1b']\n",
    "ad_map.uns['train_genes_df'].loc[genes]"
   ]
  },
  {
   "cell_type": "code",
   "execution_count": null,
   "id": "51661a77-bf6c-4dfd-bdbd-4087e4d525d7",
   "metadata": {
    "tags": []
   },
   "outputs": [],
   "source": [
    "tg.plot_genes_sc(genes, adata_measured=adata_st, adata_predicted=ad_ge, perc=0.02)"
   ]
  },
  {
   "cell_type": "code",
   "execution_count": null,
   "id": "d17f1c26-3e41-4005-9a76-9dc6486a0c92",
   "metadata": {},
   "outputs": [],
   "source": []
  },
  {
   "cell_type": "code",
   "execution_count": null,
   "id": "090e6f68-cbec-4818-9b7b-917ee70cfc59",
   "metadata": {
    "tags": []
   },
   "outputs": [],
   "source": [
    "genes=['loc102633833', 'gm5700', 'gm8292']\n",
    "tg.plot_genes_sc(genes, adata_measured=adata_st, adata_predicted=ad_ge, perc=0.02)"
   ]
  },
  {
   "cell_type": "code",
   "execution_count": null,
   "id": "cd96f389-3ccb-4d11-92f1-6815ef4fae45",
   "metadata": {
    "tags": []
   },
   "outputs": [],
   "source": [
    "(ad_ge.var.is_training == False).sum()"
   ]
  },
  {
   "cell_type": "code",
   "execution_count": null,
   "id": "cdfff567-de21-49d3-93c1-8330e8edfd3c",
   "metadata": {
    "tags": []
   },
   "outputs": [],
   "source": [
    "df_all_genes = tg.compare_spatial_geneexp(ad_ge, adata_st, adata_sc)\n",
    "df_all_genes"
   ]
  },
  {
   "cell_type": "code",
   "execution_count": null,
   "id": "65f58052-5f7b-4442-917e-8010e0f181b9",
   "metadata": {},
   "outputs": [],
   "source": [
    "from tangram import utils as ut\n",
    "def plot_auc(df_all_genes, test_genes=None):\n",
    "    \"\"\"\n",
    "        Plots auc curve which is used to evaluate model performance.\n",
    "    \n",
    "    Args:\n",
    "        df_all_genes (Pandas dataframe): returned by compare_spatial_geneexp(adata_ge, adata_sp); \n",
    "        test_genes (list): list of test genes, if not given, test_genes will be set to genes where 'is_training' field is False\n",
    "\n",
    "    Returns:\n",
    "        None\n",
    "    \"\"\"\n",
    "    metric_dict, ((pol_xs, pol_ys), (xs, ys)) = ut.eval_metric(df_all_genes, test_genes)\n",
    "    \n",
    "    fig = plt.figure()\n",
    "    plt.figure(figsize=(6, 5))\n",
    "\n",
    "    plt.plot(pol_xs, pol_ys, c='r')\n",
    "    sns.scatterplot(x=xs, y=ys, alpha=0.5, edgecolors='face')\n",
    "        \n",
    "    plt.xlim([0.0, 1.0])\n",
    "    plt.ylim([0.0, 1.0])\n",
    "    plt.gca().set_aspect(.5)\n",
    "    plt.xlabel('score')\n",
    "    plt.ylabel('spatial sparsity')\n",
    "    plt.tick_params(axis='both', labelsize=8)\n",
    "    plt.title('Prediction on test transcriptome')\n",
    "    \n",
    "    textstr = 'auc_score={}'.format(np.round(metric_dict['auc_score'], 3))\n",
    "    props = dict(boxstyle='round', facecolor='wheat', alpha=0.3)\n",
    "    # place a text box in upper left in axes coords\n",
    "    plt.text(0.03, 0.1, textstr, fontsize=11, verticalalignment='top', bbox=props);\n",
    "\n",
    "    \n",
    "# Colors used in the manuscript for deterministic assignment.\n",
    "mapping_colors = {\n",
    "    \"L6 CT\": (0.19215686274509805, 0.5098039215686274, 0.7411764705882353),\n",
    "    \"L6 IT\": (0.4196078431372549, 0.6823529411764706, 0.8392156862745098),\n",
    "    \"L5/6 NP\": (0.6196078431372549, 0.792156862745098, 0.8823529411764706),\n",
    "    \"L6b\": \"#0000c2ff\",\n",
    "    \"L2/3 IT\": (0.9019607843137255, 0.3333333333333333, 0.050980392156862744),\n",
    "    \"L5 IT\": (0.19215686274509805, 0.6392156862745098, 0.32941176470588235),\n",
    "    \"L5 ET\": (0.4549019607843137, 0.7686274509803922, 0.4627450980392157),\n",
    "    \"Oligo\": (0.4588235294117647, 0.4196078431372549, 0.6941176470588235),\n",
    "    \"Vip\": (0.6196078431372549, 0.6039215686274509, 0.7843137254901961),\n",
    "    \"Astro\": \"#ffdd55ff\",\n",
    "    \"Micro-PVM\": \"#000000ff\",\n",
    "    \"Pvalb\": (0.38823529411764707, 0.38823529411764707, 0.38823529411764707),\n",
    "    \"Lamp5\": (0.5882352941176471, 0.5882352941176471, 0.5882352941176471),\n",
    "    \"Sst\": (0.7411764705882353, 0.7411764705882353, 0.7411764705882353),\n",
    "    \"Sst Chodl\": (0.8509803921568627, 0.8509803921568627, 0.8509803921568627),\n",
    "    \"Sncg\": (0.5176470588235295, 0.23529411764705882, 0.2235294117647059),\n",
    "    \"Peri\": (0.6784313725490196, 0.28627450980392155, 0.2901960784313726),\n",
    "    \"VLMC\": (0.8392156862745098, 0.3803921568627451, 0.4196078431372549),\n",
    "    \"Endo\": (0.9058823529411765, 0.5882352941176471, 0.611764705882353),\n",
    "    \"Meis2\": \"#FFA500ff\",\n",
    "    \"SMC\": \"#000000ff\",\n",
    "    \"L6 PT\": \"#4682B4ff\",\n",
    "    \"L5 PT\": \"#a1ed7bff\",\n",
    "    \"L5 NP\": \"#6B8E23ff\",\n",
    "    \"L4\": \"#d61f1dff\",\n",
    "    \"Macrophage\": \"#2b2d2fff\",\n",
    "    \"CR\": \"#000000ff\",\n",
    "}"
   ]
  },
  {
   "cell_type": "code",
   "execution_count": null,
   "id": "59ffd39e-1124-4ed2-b041-c910d3fba2bb",
   "metadata": {
    "tags": []
   },
   "outputs": [],
   "source": [
    "# sns.scatterplot(data=df_all_genes, x='score', y='sparsity_sp', hue='is_training', alpha=.5);  # for legacy\n",
    "plot_auc(df_all_genes)"
   ]
  },
  {
   "cell_type": "code",
   "execution_count": null,
   "id": "8c24f535-5cb8-46cb-809f-7030bfe5b2b7",
   "metadata": {
    "tags": []
   },
   "outputs": [],
   "source": [
    "genes=['tfap2b', 'zic4']\n",
    "tg.plot_genes_sc(genes, adata_measured=adata_st, adata_predicted=ad_ge, perc=0.02)"
   ]
  },
  {
   "cell_type": "code",
   "execution_count": null,
   "id": "a9cbb6e8-bb4e-45b6-bf5c-1b7606f2c720",
   "metadata": {
    "tags": []
   },
   "outputs": [],
   "source": [
    "genes = ['cd34', 'rasal1']\n",
    "tg.plot_genes_sc(genes, adata_measured=adata_st, adata_predicted=ad_ge, perc=0.02)"
   ]
  },
  {
   "cell_type": "code",
   "execution_count": null,
   "id": "3cf68f5d-eb16-4111-9a3b-9eaa0a6b576e",
   "metadata": {
    "tags": []
   },
   "outputs": [],
   "source": [
    "genes = ['gm33027', 'gm5431']\n",
    "tg.plot_genes_sc(genes[:5], adata_measured=adata_st, adata_predicted=ad_ge, perc=0.02)"
   ]
  },
  {
   "cell_type": "code",
   "execution_count": null,
   "id": "b6d474c3-bdc7-48ac-ad1a-023fd3321d83",
   "metadata": {
    "tags": []
   },
   "outputs": [],
   "source": [
    "sq.im.process(img=img, layer=\"image\", method=\"smooth\")\n",
    "sq.im.segment(\n",
    "    img=img,\n",
    "    layer=\"image_smooth\",\n",
    "    method=\"watershed\",\n",
    "    channel=0,\n",
    ")"
   ]
  },
  {
   "cell_type": "code",
   "execution_count": null,
   "id": "9b0bdeab-0bf7-481c-aeef-05c63afe1438",
   "metadata": {
    "tags": []
   },
   "outputs": [],
   "source": [
    "inset_y = 1500\n",
    "inset_x = 1700\n",
    "inset_sy = 400\n",
    "inset_sx = 500\n",
    "\n",
    "fig, axs = plt.subplots(1, 3, figsize=(30, 10))\n",
    "sc.pl.spatial(\n",
    "    adata_st, color=\"cluster\", alpha=0.7, frameon=False, show=False, ax=axs[0], title=\"\"\n",
    ")\n",
    "axs[0].set_title(\"Clusters\", fontdict={\"fontsize\": 20})\n",
    "sf = adata_st.uns[\"spatial\"][\"V1_Adult_Mouse_Brain_Coronal_Section_2\"][\"scalefactors\"][\n",
    "    \"tissue_hires_scalef\"\n",
    "]\n",
    "rect = mpl.patches.Rectangle(\n",
    "    (inset_y * sf, inset_x * sf),\n",
    "    width=inset_sx * sf,\n",
    "    height=inset_sy * sf,\n",
    "    ec=\"yellow\",\n",
    "    lw=4,\n",
    "    fill=False,\n",
    ")\n",
    "axs[0].add_patch(rect)\n",
    "\n",
    "axs[0].axes.xaxis.label.set_visible(False)\n",
    "axs[0].axes.yaxis.label.set_visible(False)\n",
    "\n",
    "axs[1].imshow(\n",
    "    img[\"image\"][inset_y : inset_y + inset_sy, inset_x : inset_x + inset_sx, 0, 0]\n",
    "    / 65536,\n",
    "    interpolation=\"none\",\n",
    ")\n",
    "axs[1].grid(False)\n",
    "axs[1].set_xticks([])\n",
    "axs[1].set_yticks([])\n",
    "axs[1].set_title(\"DAPI\", fontdict={\"fontsize\": 20})\n",
    "\n",
    "crop = img[\"segmented_watershed\"][\n",
    "    inset_y : inset_y + inset_sy, inset_x : inset_x + inset_sx\n",
    "].values.squeeze(-1)\n",
    "crop = skimage.segmentation.relabel_sequential(crop)[0]\n",
    "cmap = plt.cm.plasma\n",
    "cmap.set_under(color=\"black\")\n",
    "axs[2].imshow(crop, interpolation=\"none\", cmap=cmap, vmin=0.001)\n",
    "axs[2].grid(False)\n",
    "axs[2].set_xticks([])\n",
    "axs[2].set_yticks([])\n",
    "axs[2].set_title(\"Nucleous segmentation\", fontdict={\"fontsize\": 20});"
   ]
  },
  {
   "cell_type": "code",
   "execution_count": null,
   "id": "e3c04a9d-a6b1-4df9-a21b-00959e839ba1",
   "metadata": {
    "tags": []
   },
   "outputs": [],
   "source": [
    "# define image layer to use for segmentation\n",
    "features_kwargs = {\n",
    "    \"segmentation\": {\n",
    "        \"label_layer\": \"segmented_watershed\",\n",
    "        \"props\": [\"label\", \"centroid\"],\n",
    "        \"channels\": [1, 2],\n",
    "    }\n",
    "}\n",
    "# calculate segmentation features\n",
    "sq.im.calculate_image_features(\n",
    "    adata_st,\n",
    "    img,\n",
    "    layer=\"image\",\n",
    "    key_added=\"image_features\",\n",
    "    features_kwargs=features_kwargs,\n",
    "    features=\"segmentation\",\n",
    "    mask_circle=True,\n",
    ")"
   ]
  },
  {
   "cell_type": "code",
   "execution_count": null,
   "id": "cc1dc7f5-8a74-4d83-9e6f-d967311bc30e",
   "metadata": {
    "tags": []
   },
   "outputs": [],
   "source": [
    "adata_st.obs[\"cell_count\"] = adata_st.obsm[\"image_features\"][\"segmentation_label\"]\n",
    "sc.pl.spatial(adata_st, color=[\"cluster\", \"cell_count\"], frameon=False)"
   ]
  },
  {
   "cell_type": "code",
   "execution_count": null,
   "id": "e7b319aa-fa5e-4345-8db9-bf5162123b9a",
   "metadata": {
    "tags": []
   },
   "outputs": [],
   "source": [
    "ad_map = tg.map_cells_to_space(\n",
    "    adata_sc,\n",
    "    adata_st,\n",
    "    mode=\"constrained\",\n",
    "    target_count=adata_st.obs.cell_count.sum(),\n",
    "    density_prior=np.array(adata_st.obs.cell_count) / adata_st.obs.cell_count.sum(),\n",
    "    num_epochs=1000,\n",
    "#     device=\"cuda:0\",\n",
    "    device='cpu',\n",
    ")"
   ]
  },
  {
   "cell_type": "code",
   "execution_count": null,
   "id": "63726bec-d8e9-4ed6-8403-92e0c73bb20b",
   "metadata": {
    "tags": []
   },
   "outputs": [],
   "source": [
    "tg.project_cell_annotations(ad_map, adata_st, annotation=\"cell_subclass\")\n",
    "annotation_list = list(pd.unique(adata_sc.obs['cell_subclass']))\n",
    "tg.plot_cell_annotation_sc(adata_st, annotation_list, perc=0.02)"
   ]
  },
  {
   "cell_type": "code",
   "execution_count": null,
   "id": "04bd5126-8291-436c-a16a-06cb98bcc442",
   "metadata": {
    "tags": []
   },
   "outputs": [],
   "source": [
    "ad_ge = tg.project_genes(adata_map=ad_map, adata_sc=adata_sc)\n",
    "df_all_genes = tg.compare_spatial_geneexp(ad_ge, adata_st, adata_sc)\n",
    "plot_auc(df_all_genes);"
   ]
  },
  {
   "cell_type": "code",
   "execution_count": null,
   "id": "0d59f611-b7b2-4dc9-a211-fbe584b3c9cf",
   "metadata": {
    "tags": []
   },
   "outputs": [],
   "source": [
    "tg.create_segment_cell_df(adata_st)\n",
    "adata_st.uns[\"tangram_cell_segmentation\"].head()"
   ]
  },
  {
   "cell_type": "code",
   "execution_count": null,
   "id": "8ff773b5-d9be-4895-a729-30ebc6ee114b",
   "metadata": {
    "tags": []
   },
   "outputs": [],
   "source": [
    "tg.count_cell_annotations(\n",
    "    ad_map,\n",
    "    adata_sc,\n",
    "    adata_st,\n",
    "    annotation=\"cell_subclass\",\n",
    ")\n",
    "adata_st.obsm[\"tangram_ct_count\"].head()"
   ]
  },
  {
   "cell_type": "code",
   "execution_count": null,
   "id": "414eb843-29a0-4bce-9dd1-2e62ff78026d",
   "metadata": {
    "tags": []
   },
   "outputs": [],
   "source": [
    "adata_segment = tg.deconvolve_cell_annotations(adata_st)\n",
    "adata_segment.obs.head()"
   ]
  },
  {
   "cell_type": "code",
   "execution_count": null,
   "id": "5652ee18-a1f7-4296-80c6-d366452a427a",
   "metadata": {
    "tags": []
   },
   "outputs": [],
   "source": [
    "fig, ax = plt.subplots(1, 1, figsize=(20, 20))\n",
    "sc.pl.spatial(\n",
    "    adata_segment,\n",
    "    color=\"cluster\",\n",
    "    size=0.4,\n",
    "    show=False,\n",
    "    frameon=False,\n",
    "    alpha_img=0.2,\n",
    "    legend_fontsize=20,\n",
    "    ax=ax,\n",
    ")"
   ]
  },
  {
   "cell_type": "code",
   "execution_count": null,
   "id": "cad90399-9475-41c3-8799-252cab57abd3",
   "metadata": {},
   "outputs": [],
   "source": []
  }
 ],
 "metadata": {
  "kernelspec": {
   "display_name": "Tangram",
   "language": "python",
   "name": "tangram"
  },
  "language_info": {
   "codemirror_mode": {
    "name": "ipython",
    "version": 3
   },
   "file_extension": ".py",
   "mimetype": "text/x-python",
   "name": "python",
   "nbconvert_exporter": "python",
   "pygments_lexer": "ipython3",
   "version": "3.8.8"
  }
 },
 "nbformat": 4,
 "nbformat_minor": 5
}
