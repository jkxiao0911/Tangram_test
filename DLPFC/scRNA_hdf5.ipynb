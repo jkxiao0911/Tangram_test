{
 "cells": [
  {
   "cell_type": "code",
   "execution_count": 1,
   "id": "f351f010-9b15-4c95-a3d4-76829dc2876d",
   "metadata": {},
   "outputs": [
    {
     "name": "stderr",
     "output_type": "stream",
     "text": [
      "The legacy packages maptools, rgdal, and rgeos, underpinning the sp package,\n",
      "which was just loaded, will retire in October 2023.\n",
      "Please refer to R-spatial evolution reports for details, especially\n",
      "https://r-spatial.org/r/2023/05/15/evolution4.html.\n",
      "It may be desirable to make the sf package available;\n",
      "package maintainers should consider adding sf to Suggests:.\n",
      "The sp package is now running under evolution status 2\n",
      "     (status 2 uses the sf package in place of rgdal)\n",
      "\n",
      "Attaching SeuratObject\n",
      "\n"
     ]
    }
   ],
   "source": [
    "library(Signac)\n",
    "library(Seurat)"
   ]
  },
  {
   "cell_type": "code",
   "execution_count": 2,
   "id": "fac87c78-4d50-42e7-bde1-400d260b50ee",
   "metadata": {},
   "outputs": [],
   "source": [
    "counts <- Read10X_h5(\"/mnt/disk1/xiaojk/data/DLPFC/GSM5138546_RL2123_20y_a_snRNAseq_filtered_feature_bc_matrix.h5\")"
   ]
  },
  {
   "cell_type": "code",
   "execution_count": 3,
   "id": "782fc523-3aeb-4e2b-b8c2-a392b718de78",
   "metadata": {},
   "outputs": [
    {
     "ename": "ERROR",
     "evalue": "Error in counts$`Gene Expression`: $ operator not defined for this S4 class\n",
     "output_type": "error",
     "traceback": [
      "Error in counts$`Gene Expression`: $ operator not defined for this S4 class\nTraceback:\n",
      "1. CreateSeuratObject(counts = counts$`Gene Expression`, assay = \"RNA\")"
     ]
    }
   ],
   "source": [
    "pbmc <- CreateSeuratObject(\n",
    "  counts = counts$`Gene Expression`,\n",
    "  assay = \"RNA\"\n",
    ")"
   ]
  },
  {
   "cell_type": "code",
   "execution_count": null,
   "id": "5b6cceda-a3e6-46b4-b652-5bab0f36ae2f",
   "metadata": {},
   "outputs": [],
   "source": []
  }
 ],
 "metadata": {
  "kernelspec": {
   "display_name": "R",
   "language": "R",
   "name": "ir"
  },
  "language_info": {
   "codemirror_mode": "r",
   "file_extension": ".r",
   "mimetype": "text/x-r-source",
   "name": "R",
   "pygments_lexer": "r",
   "version": "4.3.1"
  }
 },
 "nbformat": 4,
 "nbformat_minor": 5
}
