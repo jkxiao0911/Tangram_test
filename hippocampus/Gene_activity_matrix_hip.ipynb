{
 "cells": [
  {
   "cell_type": "code",
   "execution_count": 1,
   "id": "4b4661eb-1a84-478c-8de7-9162292dd4fa",
   "metadata": {
    "collapsed": true,
    "jupyter": {
     "outputs_hidden": true
    },
    "tags": []
   },
   "outputs": [
    {
     "name": "stderr",
     "output_type": "stream",
     "text": [
      "The legacy packages maptools, rgdal, and rgeos, underpinning the sp package,\n",
      "which was just loaded, will retire in October 2023.\n",
      "Please refer to R-spatial evolution reports for details, especially\n",
      "https://r-spatial.org/r/2023/05/15/evolution4.html.\n",
      "It may be desirable to make the sf package available;\n",
      "package maintainers should consider adding sf to Suggests:.\n",
      "The sp package is now running under evolution status 2\n",
      "     (status 2 uses the sf package in place of rgdal)\n",
      "\n",
      "Attaching SeuratObject\n",
      "\n",
      "Loading required package: stats4\n",
      "\n",
      "Loading required package: BiocGenerics\n",
      "\n",
      "\n",
      "Attaching package: ‘BiocGenerics’\n",
      "\n",
      "\n",
      "The following objects are masked from ‘package:stats’:\n",
      "\n",
      "    IQR, mad, sd, var, xtabs\n",
      "\n",
      "\n",
      "The following objects are masked from ‘package:base’:\n",
      "\n",
      "    anyDuplicated, aperm, append, as.data.frame, basename, cbind,\n",
      "    colnames, dirname, do.call, duplicated, eval, evalq, Filter, Find,\n",
      "    get, grep, grepl, intersect, is.unsorted, lapply, Map, mapply,\n",
      "    match, mget, order, paste, pmax, pmax.int, pmin, pmin.int,\n",
      "    Position, rank, rbind, Reduce, rownames, sapply, setdiff, sort,\n",
      "    table, tapply, union, unique, unsplit, which.max, which.min\n",
      "\n",
      "\n",
      "Loading required package: S4Vectors\n",
      "\n",
      "\n",
      "Attaching package: ‘S4Vectors’\n",
      "\n",
      "\n",
      "The following object is masked from ‘package:utils’:\n",
      "\n",
      "    findMatches\n",
      "\n",
      "\n",
      "The following objects are masked from ‘package:base’:\n",
      "\n",
      "    expand.grid, I, unname\n",
      "\n",
      "\n",
      "Loading required package: IRanges\n",
      "\n",
      "Loading required package: GenomeInfoDb\n",
      "\n",
      "Loading required package: BSgenome\n",
      "\n",
      "Loading required package: Biostrings\n",
      "\n",
      "Loading required package: XVector\n",
      "\n",
      "\n",
      "Attaching package: ‘Biostrings’\n",
      "\n",
      "\n",
      "The following object is masked from ‘package:base’:\n",
      "\n",
      "    strsplit\n",
      "\n",
      "\n",
      "Loading required package: rtracklayer\n",
      "\n",
      "Loading required package: ensembldb\n",
      "\n",
      "Loading required package: GenomicFeatures\n",
      "\n",
      "Loading required package: AnnotationDbi\n",
      "\n",
      "Loading required package: Biobase\n",
      "\n",
      "Welcome to Bioconductor\n",
      "\n",
      "    Vignettes contain introductory material; view with\n",
      "    'browseVignettes()'. To cite Bioconductor, see\n",
      "    'citation(\"Biobase\")', and for packages 'citation(\"pkgname\")'.\n",
      "\n",
      "\n",
      "Loading required package: AnnotationFilter\n",
      "\n",
      "\n",
      "Attaching package: 'ensembldb'\n",
      "\n",
      "\n",
      "The following object is masked from 'package:stats':\n",
      "\n",
      "    filter\n",
      "\n",
      "\n",
      "\n",
      "Attaching package: 'Matrix'\n",
      "\n",
      "\n",
      "The following object is masked from 'package:S4Vectors':\n",
      "\n",
      "    expand\n",
      "\n",
      "\n",
      "Warning message in .merge_two_Seqinfo_objects(x, y):\n",
      "\"The 2 combined objects have no sequence levels in common. (Use\n",
      "  suppressWarnings() to suppress this warning.)\"\n",
      "Warning message in .merge_two_Seqinfo_objects(x, y):\n",
      "\"The 2 combined objects have no sequence levels in common. (Use\n",
      "  suppressWarnings() to suppress this warning.)\"\n",
      "Warning message in .merge_two_Seqinfo_objects(x, y):\n",
      "\"The 2 combined objects have no sequence levels in common. (Use\n",
      "  suppressWarnings() to suppress this warning.)\"\n",
      "Warning message in .merge_two_Seqinfo_objects(x, y):\n",
      "\"The 2 combined objects have no sequence levels in common. (Use\n",
      "  suppressWarnings() to suppress this warning.)\"\n",
      "Warning message in .merge_two_Seqinfo_objects(x, y):\n",
      "\"The 2 combined objects have no sequence levels in common. (Use\n",
      "  suppressWarnings() to suppress this warning.)\"\n",
      "Warning message in .merge_two_Seqinfo_objects(x, y):\n",
      "\"The 2 combined objects have no sequence levels in common. (Use\n",
      "  suppressWarnings() to suppress this warning.)\"\n",
      "Warning message in .merge_two_Seqinfo_objects(x, y):\n",
      "\"The 2 combined objects have no sequence levels in common. (Use\n",
      "  suppressWarnings() to suppress this warning.)\"\n",
      "Warning message in .merge_two_Seqinfo_objects(x, y):\n",
      "\"The 2 combined objects have no sequence levels in common. (Use\n",
      "  suppressWarnings() to suppress this warning.)\"\n",
      "Warning message in .merge_two_Seqinfo_objects(x, y):\n",
      "\"The 2 combined objects have no sequence levels in common. (Use\n",
      "  suppressWarnings() to suppress this warning.)\"\n",
      "Warning message in .merge_two_Seqinfo_objects(x, y):\n",
      "\"The 2 combined objects have no sequence levels in common. (Use\n",
      "  suppressWarnings() to suppress this warning.)\"\n",
      "Warning message in .merge_two_Seqinfo_objects(x, y):\n",
      "\"The 2 combined objects have no sequence levels in common. (Use\n",
      "  suppressWarnings() to suppress this warning.)\"\n",
      "Warning message in .merge_two_Seqinfo_objects(x, y):\n",
      "\"The 2 combined objects have no sequence levels in common. (Use\n",
      "  suppressWarnings() to suppress this warning.)\"\n",
      "Warning message in .merge_two_Seqinfo_objects(x, y):\n",
      "\"The 2 combined objects have no sequence levels in common. (Use\n",
      "  suppressWarnings() to suppress this warning.)\"\n",
      "Warning message in .merge_two_Seqinfo_objects(x, y):\n",
      "\"The 2 combined objects have no sequence levels in common. (Use\n",
      "  suppressWarnings() to suppress this warning.)\"\n",
      "Warning message in .merge_two_Seqinfo_objects(x, y):\n",
      "\"The 2 combined objects have no sequence levels in common. (Use\n",
      "  suppressWarnings() to suppress this warning.)\"\n",
      "Warning message in .merge_two_Seqinfo_objects(x, y):\n",
      "\"The 2 combined objects have no sequence levels in common. (Use\n",
      "  suppressWarnings() to suppress this warning.)\"\n",
      "Warning message in .merge_two_Seqinfo_objects(x, y):\n",
      "\"The 2 combined objects have no sequence levels in common. (Use\n",
      "  suppressWarnings() to suppress this warning.)\"\n",
      "Warning message in .merge_two_Seqinfo_objects(x, y):\n",
      "\"The 2 combined objects have no sequence levels in common. (Use\n",
      "  suppressWarnings() to suppress this warning.)\"\n",
      "Warning message in .merge_two_Seqinfo_objects(x, y):\n",
      "\"The 2 combined objects have no sequence levels in common. (Use\n",
      "  suppressWarnings() to suppress this warning.)\"\n",
      "Warning message in .merge_two_Seqinfo_objects(x, y):\n",
      "\"The 2 combined objects have no sequence levels in common. (Use\n",
      "  suppressWarnings() to suppress this warning.)\"\n",
      "Warning message in .merge_two_Seqinfo_objects(x, y):\n",
      "\"The 2 combined objects have no sequence levels in common. (Use\n",
      "  suppressWarnings() to suppress this warning.)\"\n"
     ]
    }
   ],
   "source": [
    "library(Signac)\n",
    "library(Seurat)\n",
    "library(GenomicRanges)\n",
    "library(BSgenome.Mmusculus.UCSC.mm10)\n",
    "library(EnsDb.Mmusculus.v79)\n",
    "library(Matrix)\n",
    "\n",
    "annotations <- GetGRangesFromEnsDb(ensdb = EnsDb.Mmusculus.v79)\n",
    "seqlevelsStyle(annotations) <- \"UCSC\"\n",
    "genome(annotations) <- \"mm10\""
   ]
  },
  {
   "cell_type": "code",
   "execution_count": 2,
   "id": "0d808e38-4de7-4d34-9fbe-189092bb5e9f",
   "metadata": {},
   "outputs": [],
   "source": [
    "# # load metadata from original paper\n",
    "# metadata <- read.table(\"/mnt/disk1/xiaojk/data/hippocampus/Supplementary_Table_2-Metatable_of_nuclei.tsv\", sep=\"\\t\", skip=1)\n",
    "# rownames(metadata) <- metadata$V1\n",
    "# colnames(metadata) <- c(\"cell\", \"sample\", \"barcode\", \"logUM\", \"TSSe\", \"class\", \"MajorType\", \"SubType\", \"na\")\n",
    "# cells <- metadata$cell"
   ]
  },
  {
   "cell_type": "code",
   "execution_count": 3,
   "id": "db05bc2b-afb1-4881-b22c-642f486e9b7f",
   "metadata": {},
   "outputs": [],
   "source": [
    "# download from http://catlas.org/mousebrain/#!/cellBrowser\n",
    "# metadata1 <- read.table(\"/mnt/disk1/xiaojk/data/hippocampus/NonN_meta.tsv\", sep=\"\\t\", header=TRUE)  #, skip=1\n",
    "# metadata2 <- read.table(\"/mnt/disk1/xiaojk/data/hippocampus/Glutamate_meta.tsv\", sep=\"\\t\", header=TRUE)  #, skip=1\n",
    "# metadata3 <- read.table(\"/mnt/disk1/xiaojk/data/hippocampus/GABA_meta.tsv\", sep=\"\\t\", header=TRUE)  #, skip=1\n",
    "# metadata <- rbind(metadata1, metadata2, metadata3)\n",
    "# write.table(metadata, \"/mnt/disk1/xiaojk/data/hippocampus/all_meta.tsv\", sep=\"\\t\")"
   ]
  },
  {
   "cell_type": "code",
   "execution_count": 4,
   "id": "bbb9ff41-2162-4b6b-bd28-c10e2481d193",
   "metadata": {
    "tags": []
   },
   "outputs": [
    {
     "data": {
      "text/html": [
       "11"
      ],
      "text/latex": [
       "11"
      ],
      "text/markdown": [
       "11"
      ],
      "text/plain": [
       "[1] 11"
      ]
     },
     "metadata": {},
     "output_type": "display_data"
    }
   ],
   "source": [
    "metadata <- read.table(\"/mnt/disk1/xiaojk/data/hippocampus/all_meta.tsv\", sep=\"\\t\", header=TRUE, row.names = 1)  #, skip=1\n",
    "metadata_sub <- metadata[metadata$DissectionRegion %in% c('8J','8E') & metadata$replicate %in% c(1), ]\n",
    "cells <- metadata_sub$cellID\n",
    "length(metadata_sub)"
   ]
  },
  {
   "cell_type": "code",
   "execution_count": 22,
   "id": "e33ac605-93e6-43ac-8af3-1053b625fa0e",
   "metadata": {
    "collapsed": true,
    "jupyter": {
     "outputs_hidden": true
    },
    "tags": []
   },
   "outputs": [
    {
     "data": {
      "text/html": [
       "<table class=\"dataframe\">\n",
       "<caption>A data.frame: 16270 × 11</caption>\n",
       "<thead>\n",
       "\t<tr><th></th><th scope=col>cellID</th><th scope=col>sample</th><th scope=col>replicate</th><th scope=col>logUMI</th><th scope=col>tsse</th><th scope=col>DissectionRegion</th><th scope=col>RegionName</th><th scope=col>MajorRegion</th><th scope=col>SubRegion</th><th scope=col>Slice</th><th scope=col>SubClass</th></tr>\n",
       "\t<tr><th></th><th scope=col>&lt;chr&gt;</th><th scope=col>&lt;chr&gt;</th><th scope=col>&lt;int&gt;</th><th scope=col>&lt;dbl&gt;</th><th scope=col>&lt;dbl&gt;</th><th scope=col>&lt;chr&gt;</th><th scope=col>&lt;chr&gt;</th><th scope=col>&lt;chr&gt;</th><th scope=col>&lt;chr&gt;</th><th scope=col>&lt;chr&gt;</th><th scope=col>&lt;chr&gt;</th></tr>\n",
       "</thead>\n",
       "<tbody>\n",
       "\t<tr><th scope=row>.AAACTACCAGAAATTGAGGAGG</th><td>CEMBA190711_8E.AAACTACCAGAAATTGAGGAGG</td><td>CEMBA190711_8E</td><td>1</td><td>3.201943</td><td>22.07792</td><td>8E</td><td>CA-1</td><td>HPF</td><td>CA</td><td>slice: 8</td><td>ASC</td></tr>\n",
       "\t<tr><th scope=row>.AAACTACCAGAACCCACTATCT</th><td>CEMBA190711_8E.AAACTACCAGAACCCACTATCT</td><td>CEMBA190711_8E</td><td>1</td><td>3.595717</td><td>24.71591</td><td>8E</td><td>CA-1</td><td>HPF</td><td>CA</td><td>slice: 8</td><td>OPC</td></tr>\n",
       "\t<tr><th scope=row>.AAACTACCAGGAAGGGTGGTAT</th><td>CEMBA190711_8E.AAACTACCAGGAAGGGTGGTAT</td><td>CEMBA190711_8E</td><td>1</td><td>3.289143</td><td>23.52941</td><td>8E</td><td>CA-1</td><td>HPF</td><td>CA</td><td>slice: 8</td><td>ASC</td></tr>\n",
       "\t<tr><th scope=row>.AAACTACCAGGCGAACGTAGAC</th><td>CEMBA190711_8E.AAACTACCAGGCGAACGTAGAC</td><td>CEMBA190711_8E</td><td>1</td><td>3.349472</td><td>26.34508</td><td>8E</td><td>CA-1</td><td>HPF</td><td>CA</td><td>slice: 8</td><td>ASC</td></tr>\n",
       "\t<tr><th scope=row>.AAACTACCAGGGCCTCTGCAAT</th><td>CEMBA190711_8E.AAACTACCAGGGCCTCTGCAAT</td><td>CEMBA190711_8E</td><td>1</td><td>3.385070</td><td>23.86364</td><td>8E</td><td>CA-1</td><td>HPF</td><td>CA</td><td>slice: 8</td><td>OGC</td></tr>\n",
       "\t<tr><th scope=row>.AACTGCGCCAAAGTGTCGTGGA</th><td>CEMBA190711_8E.AACTGCGCCAAAGTGTCGTGGA</td><td>CEMBA190711_8E</td><td>1</td><td>3.073718</td><td>32.00000</td><td>8E</td><td>CA-1</td><td>HPF</td><td>CA</td><td>slice: 8</td><td>ASC</td></tr>\n",
       "\t<tr><th scope=row>.AACTGCGCCACTTGAGACTCCG</th><td>CEMBA190711_8E.AACTGCGCCACTTGAGACTCCG</td><td>CEMBA190711_8E</td><td>1</td><td>3.080987</td><td>23.77622</td><td>8E</td><td>CA-1</td><td>HPF</td><td>CA</td><td>slice: 8</td><td>OGC</td></tr>\n",
       "\t<tr><th scope=row>.AACTTCTGCTGGGAACAAGTCA</th><td>CEMBA190711_8E.AACTTCTGCTGGGAACAAGTCA</td><td>CEMBA190711_8E</td><td>1</td><td>3.053463</td><td>21.59091</td><td>8E</td><td>CA-1</td><td>HPF</td><td>CA</td><td>slice: 8</td><td>ASC</td></tr>\n",
       "\t<tr><th scope=row>.AACTTCTGCTTGCGAAGCTCAC</th><td>CEMBA190711_8E.AACTTCTGCTTGCGAAGCTCAC</td><td>CEMBA190711_8E</td><td>1</td><td>3.171726</td><td>20.29598</td><td>8E</td><td>CA-1</td><td>HPF</td><td>CA</td><td>slice: 8</td><td>ASC</td></tr>\n",
       "\t<tr><th scope=row>.AAGCTATACCAGGCTCTGCTGA</th><td>CEMBA190711_8E.AAGCTATACCAGGCTCTGCTGA</td><td>CEMBA190711_8E</td><td>1</td><td>3.258158</td><td>22.11302</td><td>8E</td><td>CA-1</td><td>HPF</td><td>CA</td><td>slice: 8</td><td>OPC</td></tr>\n",
       "\t<tr><th scope=row>.AAGGGTGAAGAAAGCACTAGCG</th><td>CEMBA190711_8E.AAGGGTGAAGAAAGCACTAGCG</td><td>CEMBA190711_8E</td><td>1</td><td>3.034628</td><td>22.57053</td><td>8E</td><td>CA-1</td><td>HPF</td><td>CA</td><td>slice: 8</td><td>OGC</td></tr>\n",
       "\t<tr><th scope=row>.AAGGGTGAAGAATCCCGCGCTT</th><td>CEMBA190711_8E.AAGGGTGAAGAATCCCGCGCTT</td><td>CEMBA190711_8E</td><td>1</td><td>3.012415</td><td>19.94135</td><td>8E</td><td>CA-1</td><td>HPF</td><td>CA</td><td>slice: 8</td><td>ASC</td></tr>\n",
       "\t<tr><th scope=row>.AAGGGTGAAGATCATTGAGGCT</th><td>CEMBA190711_8E.AAGGGTGAAGATCATTGAGGCT</td><td>CEMBA190711_8E</td><td>1</td><td>3.178977</td><td>22.85714</td><td>8E</td><td>CA-1</td><td>HPF</td><td>CA</td><td>slice: 8</td><td>RGL</td></tr>\n",
       "\t<tr><th scope=row>.AAGGGTGAAGGTCACCATAGTA</th><td>CEMBA190711_8E.AAGGGTGAAGGTCACCATAGTA</td><td>CEMBA190711_8E</td><td>1</td><td>3.131298</td><td>14.28571</td><td>8E</td><td>CA-1</td><td>HPF</td><td>CA</td><td>slice: 8</td><td>MGL</td></tr>\n",
       "\t<tr><th scope=row>.AAGGGTGAAGGTTTGCCACACA</th><td>CEMBA190711_8E.AAGGGTGAAGGTTTGCCACACA</td><td>CEMBA190711_8E</td><td>1</td><td>3.110590</td><td>21.67832</td><td>8E</td><td>CA-1</td><td>HPF</td><td>CA</td><td>slice: 8</td><td>OGC</td></tr>\n",
       "\t<tr><th scope=row>.AAGGGTGAAGTACGGCTTTCCT</th><td>CEMBA190711_8E.AAGGGTGAAGTACGGCTTTCCT</td><td>CEMBA190711_8E</td><td>1</td><td>3.089552</td><td>16.36364</td><td>8E</td><td>CA-1</td><td>HPF</td><td>CA</td><td>slice: 8</td><td>OGC</td></tr>\n",
       "\t<tr><th scope=row>.AAGGTAGGGAAAGCTCTCTGAT</th><td>CEMBA190711_8E.AAGGTAGGGAAAGCTCTCTGAT</td><td>CEMBA190711_8E</td><td>1</td><td>3.014100</td><td>20.97902</td><td>8E</td><td>CA-1</td><td>HPF</td><td>CA</td><td>slice: 8</td><td>RGL</td></tr>\n",
       "\t<tr><th scope=row>.AAGGTAGGGACATGTCCGAGTC</th><td>CEMBA190711_8E.AAGGTAGGGACATGTCCGAGTC</td><td>CEMBA190711_8E</td><td>1</td><td>3.460898</td><td>20.12987</td><td>8E</td><td>CA-1</td><td>HPF</td><td>CA</td><td>slice: 8</td><td>RGL</td></tr>\n",
       "\t<tr><th scope=row>.AATTCGGATGCGGTGATGACTT</th><td>CEMBA190711_8E.AATTCGGATGCGGTGATGACTT</td><td>CEMBA190711_8E</td><td>1</td><td>3.118595</td><td>23.44498</td><td>8E</td><td>CA-1</td><td>HPF</td><td>CA</td><td>slice: 8</td><td>OGC</td></tr>\n",
       "\t<tr><th scope=row>.AATTCGGATGGACATCGAGTAG</th><td>CEMBA190711_8E.AATTCGGATGGACATCGAGTAG</td><td>CEMBA190711_8E</td><td>1</td><td>3.118595</td><td>25.25253</td><td>8E</td><td>CA-1</td><td>HPF</td><td>CA</td><td>slice: 8</td><td>OGC</td></tr>\n",
       "\t<tr><th scope=row>.AATTCGGATGTCGTTTCGCACG</th><td>CEMBA190711_8E.AATTCGGATGTCGTTTCGCACG</td><td>CEMBA190711_8E</td><td>1</td><td>3.376029</td><td>21.34387</td><td>8E</td><td>CA-1</td><td>HPF</td><td>CA</td><td>slice: 8</td><td>OPC</td></tr>\n",
       "\t<tr><th scope=row>.AATTCGGATGTGGCCAGTACTA</th><td>CEMBA190711_8E.AATTCGGATGTGGCCAGTACTA</td><td>CEMBA190711_8E</td><td>1</td><td>3.233504</td><td>33.33333</td><td>8E</td><td>CA-1</td><td>HPF</td><td>CA</td><td>slice: 8</td><td>OGC</td></tr>\n",
       "\t<tr><th scope=row>.ACATACCAGGCTGTTGGTCCTT</th><td>CEMBA190711_8E.ACATACCAGGCTGTTGGTCCTT</td><td>CEMBA190711_8E</td><td>1</td><td>3.072617</td><td>26.62338</td><td>8E</td><td>CA-1</td><td>HPF</td><td>CA</td><td>slice: 8</td><td>OGC</td></tr>\n",
       "\t<tr><th scope=row>.ACATACCAGGGCTTAAGCCGTT</th><td>CEMBA190711_8E.ACATACCAGGGCTTAAGCCGTT</td><td>CEMBA190711_8E</td><td>1</td><td>3.070038</td><td>21.31661</td><td>8E</td><td>CA-1</td><td>HPF</td><td>CA</td><td>slice: 8</td><td>OGC</td></tr>\n",
       "\t<tr><th scope=row>.ACGATGTACTAGGAGTCGGAGA</th><td>CEMBA190711_8E.ACGATGTACTAGGAGTCGGAGA</td><td>CEMBA190711_8E</td><td>1</td><td>3.166430</td><td>20.57416</td><td>8E</td><td>CA-1</td><td>HPF</td><td>CA</td><td>slice: 8</td><td>OGC</td></tr>\n",
       "\t<tr><th scope=row>.ACTCCTATGGCGTGATGAGGTA</th><td>CEMBA190711_8E.ACTCCTATGGCGTGATGAGGTA</td><td>CEMBA190711_8E</td><td>1</td><td>3.337260</td><td>26.83983</td><td>8E</td><td>CA-1</td><td>HPF</td><td>CA</td><td>slice: 8</td><td>OPC</td></tr>\n",
       "\t<tr><th scope=row>.ACTCGCTAAACTAAGGTCAGAA</th><td>CEMBA190711_8E.ACTCGCTAAACTAAGGTCAGAA</td><td>CEMBA190711_8E</td><td>1</td><td>3.463296</td><td>21.48760</td><td>8E</td><td>CA-1</td><td>HPF</td><td>CA</td><td>slice: 8</td><td>OGC</td></tr>\n",
       "\t<tr><th scope=row>.ACTGCACAGAATAACGCAAGTC</th><td>CEMBA190711_8E.ACTGCACAGAATAACGCAAGTC</td><td>CEMBA190711_8E</td><td>1</td><td>3.271144</td><td>16.78322</td><td>8E</td><td>CA-1</td><td>HPF</td><td>CA</td><td>slice: 8</td><td>OGC</td></tr>\n",
       "\t<tr><th scope=row>.ACTGCACAGAGAGTGTGGCATA</th><td>CEMBA190711_8E.ACTGCACAGAGAGTGTGGCATA</td><td>CEMBA190711_8E</td><td>1</td><td>3.123198</td><td>21.29870</td><td>8E</td><td>CA-1</td><td>HPF</td><td>CA</td><td>slice: 8</td><td>OGC</td></tr>\n",
       "\t<tr><th scope=row>.AGAGCTGAATCAGAATGCCTGA</th><td>CEMBA190711_8E.AGAGCTGAATCAGAATGCCTGA</td><td>CEMBA190711_8E</td><td>1</td><td>3.435367</td><td>32.72727</td><td>8E</td><td>CA-1</td><td>HPF</td><td>CA</td><td>slice: 8</td><td>OGC</td></tr>\n",
       "\t<tr><th scope=row>⋮</th><td>⋮</td><td>⋮</td><td>⋮</td><td>⋮</td><td>⋮</td><td>⋮</td><td>⋮</td><td>⋮</td><td>⋮</td><td>⋮</td><td>⋮</td></tr>\n",
       "\t<tr><th scope=row>.TTCAAGACGGTCCCTATAGCCA</th><td>CEMBA190711_8J.TTCAAGACGGTCCCTATAGCCA</td><td>CEMBA190711_8J</td><td>1</td><td>3.834866</td><td>28.93726</td><td>8J</td><td>DG-1</td><td>HPF</td><td>DG</td><td>slice: 8</td><td>LAMGA</td></tr>\n",
       "\t<tr><th scope=row>.TTCTCCAGATCAAATGACGGGC</th><td>CEMBA190711_8J.TTCTCCAGATCAAATGACGGGC</td><td>CEMBA190711_8J</td><td>1</td><td>3.306211</td><td>32.72727</td><td>8J</td><td>DG-1</td><td>HPF</td><td>DG</td><td>slice: 8</td><td>DGNBL</td></tr>\n",
       "\t<tr><th scope=row>.TTCTCCAGATGGCCTCTGCAAT</th><td>CEMBA190711_8J.TTCTCCAGATGGCCTCTGCAAT</td><td>CEMBA190711_8J</td><td>1</td><td>3.674861</td><td>22.00957</td><td>8J</td><td>DG-1</td><td>HPF</td><td>DG</td><td>slice: 8</td><td>LAMGA</td></tr>\n",
       "\t<tr><th scope=row>.TTCTCCAGATGGGTTGAACCTA</th><td>CEMBA190711_8J.TTCTCCAGATGGGTTGAACCTA</td><td>CEMBA190711_8J</td><td>1</td><td>3.795463</td><td>20.09569</td><td>8J</td><td>DG-1</td><td>HPF</td><td>DG</td><td>slice: 8</td><td>DGNBL</td></tr>\n",
       "\t<tr><th scope=row>.TTGCGAACGGAAAGGATCGGCT</th><td>CEMBA190711_8J.TTGCGAACGGAAAGGATCGGCT</td><td>CEMBA190711_8J</td><td>1</td><td>3.686994</td><td>31.74603</td><td>8J</td><td>DG-1</td><td>HPF</td><td>DG</td><td>slice: 8</td><td>DGNBL</td></tr>\n",
       "\t<tr><th scope=row>.TTGCGAACGGGCTATTGGTAGG</th><td>CEMBA190711_8J.TTGCGAACGGGCTATTGGTAGG</td><td>CEMBA190711_8J</td><td>1</td><td>3.686279</td><td>20.35278</td><td>8J</td><td>DG-1</td><td>HPF</td><td>DG</td><td>slice: 8</td><td>DGNBL</td></tr>\n",
       "\t<tr><th scope=row>.TTGCGAACGGTCTTTGACGCTG</th><td>CEMBA190711_8J.TTGCGAACGGTCTTTGACGCTG</td><td>CEMBA190711_8J</td><td>1</td><td>3.519171</td><td>24.02597</td><td>8J</td><td>DG-1</td><td>HPF</td><td>DG</td><td>slice: 8</td><td>DGNBL</td></tr>\n",
       "\t<tr><th scope=row>.TTGGACCCAGAGGGACGGATTC</th><td>CEMBA190711_8J.TTGGACCCAGAGGGACGGATTC</td><td>CEMBA190711_8J</td><td>1</td><td>3.989539</td><td>19.30937</td><td>8J</td><td>DG-1</td><td>HPF</td><td>DG</td><td>slice: 8</td><td>LAMGA</td></tr>\n",
       "\t<tr><th scope=row>.TTGGACCCAGCGCGACTTGAGA</th><td>CEMBA190711_8J.TTGGACCCAGCGCGACTTGAGA</td><td>CEMBA190711_8J</td><td>1</td><td>3.888292</td><td>19.21488</td><td>8J</td><td>DG-1</td><td>HPF</td><td>DG</td><td>slice: 8</td><td>LSXGA</td></tr>\n",
       "\t<tr><th scope=row>.TTGGACCCAGGGTTTAGTCGTA</th><td>CEMBA190711_8J.TTGGACCCAGGGTTTAGTCGTA</td><td>CEMBA190711_8J</td><td>1</td><td>3.200577</td><td>21.91142</td><td>8J</td><td>DG-1</td><td>HPF</td><td>DG</td><td>slice: 8</td><td>CRC  </td></tr>\n",
       "\t<tr><th scope=row>.TTGGACCCAGTACAACGTAGCT</th><td>CEMBA190711_8J.TTGGACCCAGTACAACGTAGCT</td><td>CEMBA190711_8J</td><td>1</td><td>3.241546</td><td>27.27273</td><td>8J</td><td>DG-1</td><td>HPF</td><td>DG</td><td>slice: 8</td><td>DGNBL</td></tr>\n",
       "\t<tr><th scope=row>.TTGGACCCAGTACTAAGCAGTG</th><td>CEMBA190711_8J.TTGGACCCAGTACTAAGCAGTG</td><td>CEMBA190711_8J</td><td>1</td><td>3.837588</td><td>24.17355</td><td>8J</td><td>DG-1</td><td>HPF</td><td>DG</td><td>slice: 8</td><td>LAMGA</td></tr>\n",
       "\t<tr><th scope=row>.TTGGACCCAGTCTAATTGCGAC</th><td>CEMBA190711_8J.TTGGACCCAGTCTAATTGCGAC</td><td>CEMBA190711_8J</td><td>1</td><td>3.616265</td><td>19.77671</td><td>8J</td><td>DG-1</td><td>HPF</td><td>DG</td><td>slice: 8</td><td>VIPGA</td></tr>\n",
       "\t<tr><th scope=row>.TTGGACCCAGTGAACCATCGTA</th><td>CEMBA190711_8J.TTGGACCCAGTGAACCATCGTA</td><td>CEMBA190711_8J</td><td>1</td><td>3.836451</td><td>17.64706</td><td>8J</td><td>DG-1</td><td>HPF</td><td>DG</td><td>slice: 8</td><td>VIPGA</td></tr>\n",
       "\t<tr><th scope=row>.TTGGCAAGGAACACGCGTGAAC</th><td>CEMBA190711_8J.TTGGCAAGGAACACGCGTGAAC</td><td>CEMBA190711_8J</td><td>1</td><td>3.746011</td><td>28.89166</td><td>8J</td><td>DG-1</td><td>HPF</td><td>DG</td><td>slice: 8</td><td>DGNBL</td></tr>\n",
       "\t<tr><th scope=row>.TTGGCAAGGAGATGGCAAACAT</th><td>CEMBA190711_8J.TTGGCAAGGAGATGGCAAACAT</td><td>CEMBA190711_8J</td><td>1</td><td>3.517196</td><td>18.85522</td><td>8J</td><td>DG-1</td><td>HPF</td><td>DG</td><td>slice: 8</td><td>DGNBL</td></tr>\n",
       "\t<tr><th scope=row>.TTGGCAAGGAGGGCATAAACGT</th><td>CEMBA190711_8J.TTGGCAAGGAGGGCATAAACGT</td><td>CEMBA190711_8J</td><td>1</td><td>3.783761</td><td>20.94361</td><td>8J</td><td>DG-1</td><td>HPF</td><td>DG</td><td>slice: 8</td><td>LAMGA</td></tr>\n",
       "\t<tr><th scope=row>.TTGTGACATCCGGCGACTAACA</th><td>CEMBA190711_8J.TTGTGACATCCGGCGACTAACA</td><td>CEMBA190711_8J</td><td>1</td><td>3.647774</td><td>15.49925</td><td>8J</td><td>DG-1</td><td>HPF</td><td>DG</td><td>slice: 8</td><td>DGNBL</td></tr>\n",
       "\t<tr><th scope=row>.TTGTGACATCCTGTGAAGAGAA</th><td>CEMBA190711_8J.TTGTGACATCCTGTGAAGAGAA</td><td>CEMBA190711_8J</td><td>1</td><td>3.530328</td><td>24.90119</td><td>8J</td><td>DG-1</td><td>HPF</td><td>DG</td><td>slice: 8</td><td>CRC  </td></tr>\n",
       "\t<tr><th scope=row>.TTGTGACATCGAAGGACCTAGT</th><td>CEMBA190711_8J.TTGTGACATCGAAGGACCTAGT</td><td>CEMBA190711_8J</td><td>1</td><td>3.635081</td><td>23.33333</td><td>8J</td><td>DG-1</td><td>HPF</td><td>DG</td><td>slice: 8</td><td>CRC  </td></tr>\n",
       "\t<tr><th scope=row>.TTGTGACATCTACCGCTTCCAC</th><td>CEMBA190711_8J.TTGTGACATCTACCGCTTCCAC</td><td>CEMBA190711_8J</td><td>1</td><td>3.908967</td><td>25.45455</td><td>8J</td><td>DG-1</td><td>HPF</td><td>DG</td><td>slice: 8</td><td>DGNBL</td></tr>\n",
       "\t<tr><th scope=row>.TTGTGACATCTTGTTCCTCTGC</th><td>CEMBA190711_8J.TTGTGACATCTTGTTCCTCTGC</td><td>CEMBA190711_8J</td><td>1</td><td>3.873553</td><td>17.99438</td><td>8J</td><td>DG-1</td><td>HPF</td><td>DG</td><td>slice: 8</td><td>DGNBL</td></tr>\n",
       "\t<tr><th scope=row>.TTTCTCCTGCGTCGACAGATAG</th><td>CEMBA190711_8J.TTTCTCCTGCGTCGACAGATAG</td><td>CEMBA190711_8J</td><td>1</td><td>3.418301</td><td>11.36364</td><td>8J</td><td>DG-1</td><td>HPF</td><td>DG</td><td>slice: 8</td><td>OBNBL</td></tr>\n",
       "\t<tr><th scope=row>.TTTCTCCTGCGTGCCTTTAAGC</th><td>CEMBA190711_8J.TTTCTCCTGCGTGCCTTTAAGC</td><td>CEMBA190711_8J</td><td>1</td><td>3.830332</td><td>16.45022</td><td>8J</td><td>DG-1</td><td>HPF</td><td>DG</td><td>slice: 8</td><td>LAMGA</td></tr>\n",
       "\t<tr><th scope=row>.TTTGGCGCTTACATCCGGTCTC</th><td>CEMBA190711_8J.TTTGGCGCTTACATCCGGTCTC</td><td>CEMBA190711_8J</td><td>1</td><td>3.215638</td><td>17.55486</td><td>8J</td><td>DG-1</td><td>HPF</td><td>DG</td><td>slice: 8</td><td>DGNBL</td></tr>\n",
       "\t<tr><th scope=row>.TTTGGCGCTTCGACAGTCTTAT</th><td>CEMBA190711_8J.TTTGGCGCTTCGACAGTCTTAT</td><td>CEMBA190711_8J</td><td>1</td><td>3.747878</td><td>21.66874</td><td>8J</td><td>DG-1</td><td>HPF</td><td>DG</td><td>slice: 8</td><td>VIPGA</td></tr>\n",
       "\t<tr><th scope=row>.TTTGGCGCTTGGCACTTCATCT</th><td>CEMBA190711_8J.TTTGGCGCTTGGCACTTCATCT</td><td>CEMBA190711_8J</td><td>1</td><td>3.349083</td><td>16.45022</td><td>8J</td><td>DG-1</td><td>HPF</td><td>DG</td><td>slice: 8</td><td>DGNBL</td></tr>\n",
       "\t<tr><th scope=row>.TTTGGCGCTTGTACAACTCTAG</th><td>CEMBA190711_8J.TTTGGCGCTTGTACAACTCTAG</td><td>CEMBA190711_8J</td><td>1</td><td>3.683137</td><td>16.28223</td><td>8J</td><td>DG-1</td><td>HPF</td><td>DG</td><td>slice: 8</td><td>DGNBL</td></tr>\n",
       "\t<tr><th scope=row>.TTTGGCGCTTTTATGGTAGACC</th><td>CEMBA190711_8J.TTTGGCGCTTTTATGGTAGACC</td><td>CEMBA190711_8J</td><td>1</td><td>4.158272</td><td>23.12253</td><td>8J</td><td>DG-1</td><td>HPF</td><td>DG</td><td>slice: 8</td><td>LAMGA</td></tr>\n",
       "\t<tr><th scope=row>.TTTGGCGCTTTTCCAGAGGTCT</th><td>CEMBA190711_8J.TTTGGCGCTTTTCCAGAGGTCT</td><td>CEMBA190711_8J</td><td>1</td><td>3.879555</td><td>20.23047</td><td>8J</td><td>DG-1</td><td>HPF</td><td>DG</td><td>slice: 8</td><td>DGNBL</td></tr>\n",
       "</tbody>\n",
       "</table>\n"
      ],
      "text/latex": [
       "A data.frame: 16270 × 11\n",
       "\\begin{tabular}{r|lllllllllll}\n",
       "  & cellID & sample & replicate & logUMI & tsse & DissectionRegion & RegionName & MajorRegion & SubRegion & Slice & SubClass\\\\\n",
       "  & <chr> & <chr> & <int> & <dbl> & <dbl> & <chr> & <chr> & <chr> & <chr> & <chr> & <chr>\\\\\n",
       "\\hline\n",
       "\t.AAACTACCAGAAATTGAGGAGG & CEMBA190711\\_8E.AAACTACCAGAAATTGAGGAGG & CEMBA190711\\_8E & 1 & 3.201943 & 22.07792 & 8E & CA-1 & HPF & CA & slice: 8 & ASC\\\\\n",
       "\t.AAACTACCAGAACCCACTATCT & CEMBA190711\\_8E.AAACTACCAGAACCCACTATCT & CEMBA190711\\_8E & 1 & 3.595717 & 24.71591 & 8E & CA-1 & HPF & CA & slice: 8 & OPC\\\\\n",
       "\t.AAACTACCAGGAAGGGTGGTAT & CEMBA190711\\_8E.AAACTACCAGGAAGGGTGGTAT & CEMBA190711\\_8E & 1 & 3.289143 & 23.52941 & 8E & CA-1 & HPF & CA & slice: 8 & ASC\\\\\n",
       "\t.AAACTACCAGGCGAACGTAGAC & CEMBA190711\\_8E.AAACTACCAGGCGAACGTAGAC & CEMBA190711\\_8E & 1 & 3.349472 & 26.34508 & 8E & CA-1 & HPF & CA & slice: 8 & ASC\\\\\n",
       "\t.AAACTACCAGGGCCTCTGCAAT & CEMBA190711\\_8E.AAACTACCAGGGCCTCTGCAAT & CEMBA190711\\_8E & 1 & 3.385070 & 23.86364 & 8E & CA-1 & HPF & CA & slice: 8 & OGC\\\\\n",
       "\t.AACTGCGCCAAAGTGTCGTGGA & CEMBA190711\\_8E.AACTGCGCCAAAGTGTCGTGGA & CEMBA190711\\_8E & 1 & 3.073718 & 32.00000 & 8E & CA-1 & HPF & CA & slice: 8 & ASC\\\\\n",
       "\t.AACTGCGCCACTTGAGACTCCG & CEMBA190711\\_8E.AACTGCGCCACTTGAGACTCCG & CEMBA190711\\_8E & 1 & 3.080987 & 23.77622 & 8E & CA-1 & HPF & CA & slice: 8 & OGC\\\\\n",
       "\t.AACTTCTGCTGGGAACAAGTCA & CEMBA190711\\_8E.AACTTCTGCTGGGAACAAGTCA & CEMBA190711\\_8E & 1 & 3.053463 & 21.59091 & 8E & CA-1 & HPF & CA & slice: 8 & ASC\\\\\n",
       "\t.AACTTCTGCTTGCGAAGCTCAC & CEMBA190711\\_8E.AACTTCTGCTTGCGAAGCTCAC & CEMBA190711\\_8E & 1 & 3.171726 & 20.29598 & 8E & CA-1 & HPF & CA & slice: 8 & ASC\\\\\n",
       "\t.AAGCTATACCAGGCTCTGCTGA & CEMBA190711\\_8E.AAGCTATACCAGGCTCTGCTGA & CEMBA190711\\_8E & 1 & 3.258158 & 22.11302 & 8E & CA-1 & HPF & CA & slice: 8 & OPC\\\\\n",
       "\t.AAGGGTGAAGAAAGCACTAGCG & CEMBA190711\\_8E.AAGGGTGAAGAAAGCACTAGCG & CEMBA190711\\_8E & 1 & 3.034628 & 22.57053 & 8E & CA-1 & HPF & CA & slice: 8 & OGC\\\\\n",
       "\t.AAGGGTGAAGAATCCCGCGCTT & CEMBA190711\\_8E.AAGGGTGAAGAATCCCGCGCTT & CEMBA190711\\_8E & 1 & 3.012415 & 19.94135 & 8E & CA-1 & HPF & CA & slice: 8 & ASC\\\\\n",
       "\t.AAGGGTGAAGATCATTGAGGCT & CEMBA190711\\_8E.AAGGGTGAAGATCATTGAGGCT & CEMBA190711\\_8E & 1 & 3.178977 & 22.85714 & 8E & CA-1 & HPF & CA & slice: 8 & RGL\\\\\n",
       "\t.AAGGGTGAAGGTCACCATAGTA & CEMBA190711\\_8E.AAGGGTGAAGGTCACCATAGTA & CEMBA190711\\_8E & 1 & 3.131298 & 14.28571 & 8E & CA-1 & HPF & CA & slice: 8 & MGL\\\\\n",
       "\t.AAGGGTGAAGGTTTGCCACACA & CEMBA190711\\_8E.AAGGGTGAAGGTTTGCCACACA & CEMBA190711\\_8E & 1 & 3.110590 & 21.67832 & 8E & CA-1 & HPF & CA & slice: 8 & OGC\\\\\n",
       "\t.AAGGGTGAAGTACGGCTTTCCT & CEMBA190711\\_8E.AAGGGTGAAGTACGGCTTTCCT & CEMBA190711\\_8E & 1 & 3.089552 & 16.36364 & 8E & CA-1 & HPF & CA & slice: 8 & OGC\\\\\n",
       "\t.AAGGTAGGGAAAGCTCTCTGAT & CEMBA190711\\_8E.AAGGTAGGGAAAGCTCTCTGAT & CEMBA190711\\_8E & 1 & 3.014100 & 20.97902 & 8E & CA-1 & HPF & CA & slice: 8 & RGL\\\\\n",
       "\t.AAGGTAGGGACATGTCCGAGTC & CEMBA190711\\_8E.AAGGTAGGGACATGTCCGAGTC & CEMBA190711\\_8E & 1 & 3.460898 & 20.12987 & 8E & CA-1 & HPF & CA & slice: 8 & RGL\\\\\n",
       "\t.AATTCGGATGCGGTGATGACTT & CEMBA190711\\_8E.AATTCGGATGCGGTGATGACTT & CEMBA190711\\_8E & 1 & 3.118595 & 23.44498 & 8E & CA-1 & HPF & CA & slice: 8 & OGC\\\\\n",
       "\t.AATTCGGATGGACATCGAGTAG & CEMBA190711\\_8E.AATTCGGATGGACATCGAGTAG & CEMBA190711\\_8E & 1 & 3.118595 & 25.25253 & 8E & CA-1 & HPF & CA & slice: 8 & OGC\\\\\n",
       "\t.AATTCGGATGTCGTTTCGCACG & CEMBA190711\\_8E.AATTCGGATGTCGTTTCGCACG & CEMBA190711\\_8E & 1 & 3.376029 & 21.34387 & 8E & CA-1 & HPF & CA & slice: 8 & OPC\\\\\n",
       "\t.AATTCGGATGTGGCCAGTACTA & CEMBA190711\\_8E.AATTCGGATGTGGCCAGTACTA & CEMBA190711\\_8E & 1 & 3.233504 & 33.33333 & 8E & CA-1 & HPF & CA & slice: 8 & OGC\\\\\n",
       "\t.ACATACCAGGCTGTTGGTCCTT & CEMBA190711\\_8E.ACATACCAGGCTGTTGGTCCTT & CEMBA190711\\_8E & 1 & 3.072617 & 26.62338 & 8E & CA-1 & HPF & CA & slice: 8 & OGC\\\\\n",
       "\t.ACATACCAGGGCTTAAGCCGTT & CEMBA190711\\_8E.ACATACCAGGGCTTAAGCCGTT & CEMBA190711\\_8E & 1 & 3.070038 & 21.31661 & 8E & CA-1 & HPF & CA & slice: 8 & OGC\\\\\n",
       "\t.ACGATGTACTAGGAGTCGGAGA & CEMBA190711\\_8E.ACGATGTACTAGGAGTCGGAGA & CEMBA190711\\_8E & 1 & 3.166430 & 20.57416 & 8E & CA-1 & HPF & CA & slice: 8 & OGC\\\\\n",
       "\t.ACTCCTATGGCGTGATGAGGTA & CEMBA190711\\_8E.ACTCCTATGGCGTGATGAGGTA & CEMBA190711\\_8E & 1 & 3.337260 & 26.83983 & 8E & CA-1 & HPF & CA & slice: 8 & OPC\\\\\n",
       "\t.ACTCGCTAAACTAAGGTCAGAA & CEMBA190711\\_8E.ACTCGCTAAACTAAGGTCAGAA & CEMBA190711\\_8E & 1 & 3.463296 & 21.48760 & 8E & CA-1 & HPF & CA & slice: 8 & OGC\\\\\n",
       "\t.ACTGCACAGAATAACGCAAGTC & CEMBA190711\\_8E.ACTGCACAGAATAACGCAAGTC & CEMBA190711\\_8E & 1 & 3.271144 & 16.78322 & 8E & CA-1 & HPF & CA & slice: 8 & OGC\\\\\n",
       "\t.ACTGCACAGAGAGTGTGGCATA & CEMBA190711\\_8E.ACTGCACAGAGAGTGTGGCATA & CEMBA190711\\_8E & 1 & 3.123198 & 21.29870 & 8E & CA-1 & HPF & CA & slice: 8 & OGC\\\\\n",
       "\t.AGAGCTGAATCAGAATGCCTGA & CEMBA190711\\_8E.AGAGCTGAATCAGAATGCCTGA & CEMBA190711\\_8E & 1 & 3.435367 & 32.72727 & 8E & CA-1 & HPF & CA & slice: 8 & OGC\\\\\n",
       "\t⋮ & ⋮ & ⋮ & ⋮ & ⋮ & ⋮ & ⋮ & ⋮ & ⋮ & ⋮ & ⋮ & ⋮\\\\\n",
       "\t.TTCAAGACGGTCCCTATAGCCA & CEMBA190711\\_8J.TTCAAGACGGTCCCTATAGCCA & CEMBA190711\\_8J & 1 & 3.834866 & 28.93726 & 8J & DG-1 & HPF & DG & slice: 8 & LAMGA\\\\\n",
       "\t.TTCTCCAGATCAAATGACGGGC & CEMBA190711\\_8J.TTCTCCAGATCAAATGACGGGC & CEMBA190711\\_8J & 1 & 3.306211 & 32.72727 & 8J & DG-1 & HPF & DG & slice: 8 & DGNBL\\\\\n",
       "\t.TTCTCCAGATGGCCTCTGCAAT & CEMBA190711\\_8J.TTCTCCAGATGGCCTCTGCAAT & CEMBA190711\\_8J & 1 & 3.674861 & 22.00957 & 8J & DG-1 & HPF & DG & slice: 8 & LAMGA\\\\\n",
       "\t.TTCTCCAGATGGGTTGAACCTA & CEMBA190711\\_8J.TTCTCCAGATGGGTTGAACCTA & CEMBA190711\\_8J & 1 & 3.795463 & 20.09569 & 8J & DG-1 & HPF & DG & slice: 8 & DGNBL\\\\\n",
       "\t.TTGCGAACGGAAAGGATCGGCT & CEMBA190711\\_8J.TTGCGAACGGAAAGGATCGGCT & CEMBA190711\\_8J & 1 & 3.686994 & 31.74603 & 8J & DG-1 & HPF & DG & slice: 8 & DGNBL\\\\\n",
       "\t.TTGCGAACGGGCTATTGGTAGG & CEMBA190711\\_8J.TTGCGAACGGGCTATTGGTAGG & CEMBA190711\\_8J & 1 & 3.686279 & 20.35278 & 8J & DG-1 & HPF & DG & slice: 8 & DGNBL\\\\\n",
       "\t.TTGCGAACGGTCTTTGACGCTG & CEMBA190711\\_8J.TTGCGAACGGTCTTTGACGCTG & CEMBA190711\\_8J & 1 & 3.519171 & 24.02597 & 8J & DG-1 & HPF & DG & slice: 8 & DGNBL\\\\\n",
       "\t.TTGGACCCAGAGGGACGGATTC & CEMBA190711\\_8J.TTGGACCCAGAGGGACGGATTC & CEMBA190711\\_8J & 1 & 3.989539 & 19.30937 & 8J & DG-1 & HPF & DG & slice: 8 & LAMGA\\\\\n",
       "\t.TTGGACCCAGCGCGACTTGAGA & CEMBA190711\\_8J.TTGGACCCAGCGCGACTTGAGA & CEMBA190711\\_8J & 1 & 3.888292 & 19.21488 & 8J & DG-1 & HPF & DG & slice: 8 & LSXGA\\\\\n",
       "\t.TTGGACCCAGGGTTTAGTCGTA & CEMBA190711\\_8J.TTGGACCCAGGGTTTAGTCGTA & CEMBA190711\\_8J & 1 & 3.200577 & 21.91142 & 8J & DG-1 & HPF & DG & slice: 8 & CRC  \\\\\n",
       "\t.TTGGACCCAGTACAACGTAGCT & CEMBA190711\\_8J.TTGGACCCAGTACAACGTAGCT & CEMBA190711\\_8J & 1 & 3.241546 & 27.27273 & 8J & DG-1 & HPF & DG & slice: 8 & DGNBL\\\\\n",
       "\t.TTGGACCCAGTACTAAGCAGTG & CEMBA190711\\_8J.TTGGACCCAGTACTAAGCAGTG & CEMBA190711\\_8J & 1 & 3.837588 & 24.17355 & 8J & DG-1 & HPF & DG & slice: 8 & LAMGA\\\\\n",
       "\t.TTGGACCCAGTCTAATTGCGAC & CEMBA190711\\_8J.TTGGACCCAGTCTAATTGCGAC & CEMBA190711\\_8J & 1 & 3.616265 & 19.77671 & 8J & DG-1 & HPF & DG & slice: 8 & VIPGA\\\\\n",
       "\t.TTGGACCCAGTGAACCATCGTA & CEMBA190711\\_8J.TTGGACCCAGTGAACCATCGTA & CEMBA190711\\_8J & 1 & 3.836451 & 17.64706 & 8J & DG-1 & HPF & DG & slice: 8 & VIPGA\\\\\n",
       "\t.TTGGCAAGGAACACGCGTGAAC & CEMBA190711\\_8J.TTGGCAAGGAACACGCGTGAAC & CEMBA190711\\_8J & 1 & 3.746011 & 28.89166 & 8J & DG-1 & HPF & DG & slice: 8 & DGNBL\\\\\n",
       "\t.TTGGCAAGGAGATGGCAAACAT & CEMBA190711\\_8J.TTGGCAAGGAGATGGCAAACAT & CEMBA190711\\_8J & 1 & 3.517196 & 18.85522 & 8J & DG-1 & HPF & DG & slice: 8 & DGNBL\\\\\n",
       "\t.TTGGCAAGGAGGGCATAAACGT & CEMBA190711\\_8J.TTGGCAAGGAGGGCATAAACGT & CEMBA190711\\_8J & 1 & 3.783761 & 20.94361 & 8J & DG-1 & HPF & DG & slice: 8 & LAMGA\\\\\n",
       "\t.TTGTGACATCCGGCGACTAACA & CEMBA190711\\_8J.TTGTGACATCCGGCGACTAACA & CEMBA190711\\_8J & 1 & 3.647774 & 15.49925 & 8J & DG-1 & HPF & DG & slice: 8 & DGNBL\\\\\n",
       "\t.TTGTGACATCCTGTGAAGAGAA & CEMBA190711\\_8J.TTGTGACATCCTGTGAAGAGAA & CEMBA190711\\_8J & 1 & 3.530328 & 24.90119 & 8J & DG-1 & HPF & DG & slice: 8 & CRC  \\\\\n",
       "\t.TTGTGACATCGAAGGACCTAGT & CEMBA190711\\_8J.TTGTGACATCGAAGGACCTAGT & CEMBA190711\\_8J & 1 & 3.635081 & 23.33333 & 8J & DG-1 & HPF & DG & slice: 8 & CRC  \\\\\n",
       "\t.TTGTGACATCTACCGCTTCCAC & CEMBA190711\\_8J.TTGTGACATCTACCGCTTCCAC & CEMBA190711\\_8J & 1 & 3.908967 & 25.45455 & 8J & DG-1 & HPF & DG & slice: 8 & DGNBL\\\\\n",
       "\t.TTGTGACATCTTGTTCCTCTGC & CEMBA190711\\_8J.TTGTGACATCTTGTTCCTCTGC & CEMBA190711\\_8J & 1 & 3.873553 & 17.99438 & 8J & DG-1 & HPF & DG & slice: 8 & DGNBL\\\\\n",
       "\t.TTTCTCCTGCGTCGACAGATAG & CEMBA190711\\_8J.TTTCTCCTGCGTCGACAGATAG & CEMBA190711\\_8J & 1 & 3.418301 & 11.36364 & 8J & DG-1 & HPF & DG & slice: 8 & OBNBL\\\\\n",
       "\t.TTTCTCCTGCGTGCCTTTAAGC & CEMBA190711\\_8J.TTTCTCCTGCGTGCCTTTAAGC & CEMBA190711\\_8J & 1 & 3.830332 & 16.45022 & 8J & DG-1 & HPF & DG & slice: 8 & LAMGA\\\\\n",
       "\t.TTTGGCGCTTACATCCGGTCTC & CEMBA190711\\_8J.TTTGGCGCTTACATCCGGTCTC & CEMBA190711\\_8J & 1 & 3.215638 & 17.55486 & 8J & DG-1 & HPF & DG & slice: 8 & DGNBL\\\\\n",
       "\t.TTTGGCGCTTCGACAGTCTTAT & CEMBA190711\\_8J.TTTGGCGCTTCGACAGTCTTAT & CEMBA190711\\_8J & 1 & 3.747878 & 21.66874 & 8J & DG-1 & HPF & DG & slice: 8 & VIPGA\\\\\n",
       "\t.TTTGGCGCTTGGCACTTCATCT & CEMBA190711\\_8J.TTTGGCGCTTGGCACTTCATCT & CEMBA190711\\_8J & 1 & 3.349083 & 16.45022 & 8J & DG-1 & HPF & DG & slice: 8 & DGNBL\\\\\n",
       "\t.TTTGGCGCTTGTACAACTCTAG & CEMBA190711\\_8J.TTTGGCGCTTGTACAACTCTAG & CEMBA190711\\_8J & 1 & 3.683137 & 16.28223 & 8J & DG-1 & HPF & DG & slice: 8 & DGNBL\\\\\n",
       "\t.TTTGGCGCTTTTATGGTAGACC & CEMBA190711\\_8J.TTTGGCGCTTTTATGGTAGACC & CEMBA190711\\_8J & 1 & 4.158272 & 23.12253 & 8J & DG-1 & HPF & DG & slice: 8 & LAMGA\\\\\n",
       "\t.TTTGGCGCTTTTCCAGAGGTCT & CEMBA190711\\_8J.TTTGGCGCTTTTCCAGAGGTCT & CEMBA190711\\_8J & 1 & 3.879555 & 20.23047 & 8J & DG-1 & HPF & DG & slice: 8 & DGNBL\\\\\n",
       "\\end{tabular}\n"
      ],
      "text/markdown": [
       "\n",
       "A data.frame: 16270 × 11\n",
       "\n",
       "| <!--/--> | cellID &lt;chr&gt; | sample &lt;chr&gt; | replicate &lt;int&gt; | logUMI &lt;dbl&gt; | tsse &lt;dbl&gt; | DissectionRegion &lt;chr&gt; | RegionName &lt;chr&gt; | MajorRegion &lt;chr&gt; | SubRegion &lt;chr&gt; | Slice &lt;chr&gt; | SubClass &lt;chr&gt; |\n",
       "|---|---|---|---|---|---|---|---|---|---|---|---|\n",
       "| .AAACTACCAGAAATTGAGGAGG | CEMBA190711_8E.AAACTACCAGAAATTGAGGAGG | CEMBA190711_8E | 1 | 3.201943 | 22.07792 | 8E | CA-1 | HPF | CA | slice: 8 | ASC |\n",
       "| .AAACTACCAGAACCCACTATCT | CEMBA190711_8E.AAACTACCAGAACCCACTATCT | CEMBA190711_8E | 1 | 3.595717 | 24.71591 | 8E | CA-1 | HPF | CA | slice: 8 | OPC |\n",
       "| .AAACTACCAGGAAGGGTGGTAT | CEMBA190711_8E.AAACTACCAGGAAGGGTGGTAT | CEMBA190711_8E | 1 | 3.289143 | 23.52941 | 8E | CA-1 | HPF | CA | slice: 8 | ASC |\n",
       "| .AAACTACCAGGCGAACGTAGAC | CEMBA190711_8E.AAACTACCAGGCGAACGTAGAC | CEMBA190711_8E | 1 | 3.349472 | 26.34508 | 8E | CA-1 | HPF | CA | slice: 8 | ASC |\n",
       "| .AAACTACCAGGGCCTCTGCAAT | CEMBA190711_8E.AAACTACCAGGGCCTCTGCAAT | CEMBA190711_8E | 1 | 3.385070 | 23.86364 | 8E | CA-1 | HPF | CA | slice: 8 | OGC |\n",
       "| .AACTGCGCCAAAGTGTCGTGGA | CEMBA190711_8E.AACTGCGCCAAAGTGTCGTGGA | CEMBA190711_8E | 1 | 3.073718 | 32.00000 | 8E | CA-1 | HPF | CA | slice: 8 | ASC |\n",
       "| .AACTGCGCCACTTGAGACTCCG | CEMBA190711_8E.AACTGCGCCACTTGAGACTCCG | CEMBA190711_8E | 1 | 3.080987 | 23.77622 | 8E | CA-1 | HPF | CA | slice: 8 | OGC |\n",
       "| .AACTTCTGCTGGGAACAAGTCA | CEMBA190711_8E.AACTTCTGCTGGGAACAAGTCA | CEMBA190711_8E | 1 | 3.053463 | 21.59091 | 8E | CA-1 | HPF | CA | slice: 8 | ASC |\n",
       "| .AACTTCTGCTTGCGAAGCTCAC | CEMBA190711_8E.AACTTCTGCTTGCGAAGCTCAC | CEMBA190711_8E | 1 | 3.171726 | 20.29598 | 8E | CA-1 | HPF | CA | slice: 8 | ASC |\n",
       "| .AAGCTATACCAGGCTCTGCTGA | CEMBA190711_8E.AAGCTATACCAGGCTCTGCTGA | CEMBA190711_8E | 1 | 3.258158 | 22.11302 | 8E | CA-1 | HPF | CA | slice: 8 | OPC |\n",
       "| .AAGGGTGAAGAAAGCACTAGCG | CEMBA190711_8E.AAGGGTGAAGAAAGCACTAGCG | CEMBA190711_8E | 1 | 3.034628 | 22.57053 | 8E | CA-1 | HPF | CA | slice: 8 | OGC |\n",
       "| .AAGGGTGAAGAATCCCGCGCTT | CEMBA190711_8E.AAGGGTGAAGAATCCCGCGCTT | CEMBA190711_8E | 1 | 3.012415 | 19.94135 | 8E | CA-1 | HPF | CA | slice: 8 | ASC |\n",
       "| .AAGGGTGAAGATCATTGAGGCT | CEMBA190711_8E.AAGGGTGAAGATCATTGAGGCT | CEMBA190711_8E | 1 | 3.178977 | 22.85714 | 8E | CA-1 | HPF | CA | slice: 8 | RGL |\n",
       "| .AAGGGTGAAGGTCACCATAGTA | CEMBA190711_8E.AAGGGTGAAGGTCACCATAGTA | CEMBA190711_8E | 1 | 3.131298 | 14.28571 | 8E | CA-1 | HPF | CA | slice: 8 | MGL |\n",
       "| .AAGGGTGAAGGTTTGCCACACA | CEMBA190711_8E.AAGGGTGAAGGTTTGCCACACA | CEMBA190711_8E | 1 | 3.110590 | 21.67832 | 8E | CA-1 | HPF | CA | slice: 8 | OGC |\n",
       "| .AAGGGTGAAGTACGGCTTTCCT | CEMBA190711_8E.AAGGGTGAAGTACGGCTTTCCT | CEMBA190711_8E | 1 | 3.089552 | 16.36364 | 8E | CA-1 | HPF | CA | slice: 8 | OGC |\n",
       "| .AAGGTAGGGAAAGCTCTCTGAT | CEMBA190711_8E.AAGGTAGGGAAAGCTCTCTGAT | CEMBA190711_8E | 1 | 3.014100 | 20.97902 | 8E | CA-1 | HPF | CA | slice: 8 | RGL |\n",
       "| .AAGGTAGGGACATGTCCGAGTC | CEMBA190711_8E.AAGGTAGGGACATGTCCGAGTC | CEMBA190711_8E | 1 | 3.460898 | 20.12987 | 8E | CA-1 | HPF | CA | slice: 8 | RGL |\n",
       "| .AATTCGGATGCGGTGATGACTT | CEMBA190711_8E.AATTCGGATGCGGTGATGACTT | CEMBA190711_8E | 1 | 3.118595 | 23.44498 | 8E | CA-1 | HPF | CA | slice: 8 | OGC |\n",
       "| .AATTCGGATGGACATCGAGTAG | CEMBA190711_8E.AATTCGGATGGACATCGAGTAG | CEMBA190711_8E | 1 | 3.118595 | 25.25253 | 8E | CA-1 | HPF | CA | slice: 8 | OGC |\n",
       "| .AATTCGGATGTCGTTTCGCACG | CEMBA190711_8E.AATTCGGATGTCGTTTCGCACG | CEMBA190711_8E | 1 | 3.376029 | 21.34387 | 8E | CA-1 | HPF | CA | slice: 8 | OPC |\n",
       "| .AATTCGGATGTGGCCAGTACTA | CEMBA190711_8E.AATTCGGATGTGGCCAGTACTA | CEMBA190711_8E | 1 | 3.233504 | 33.33333 | 8E | CA-1 | HPF | CA | slice: 8 | OGC |\n",
       "| .ACATACCAGGCTGTTGGTCCTT | CEMBA190711_8E.ACATACCAGGCTGTTGGTCCTT | CEMBA190711_8E | 1 | 3.072617 | 26.62338 | 8E | CA-1 | HPF | CA | slice: 8 | OGC |\n",
       "| .ACATACCAGGGCTTAAGCCGTT | CEMBA190711_8E.ACATACCAGGGCTTAAGCCGTT | CEMBA190711_8E | 1 | 3.070038 | 21.31661 | 8E | CA-1 | HPF | CA | slice: 8 | OGC |\n",
       "| .ACGATGTACTAGGAGTCGGAGA | CEMBA190711_8E.ACGATGTACTAGGAGTCGGAGA | CEMBA190711_8E | 1 | 3.166430 | 20.57416 | 8E | CA-1 | HPF | CA | slice: 8 | OGC |\n",
       "| .ACTCCTATGGCGTGATGAGGTA | CEMBA190711_8E.ACTCCTATGGCGTGATGAGGTA | CEMBA190711_8E | 1 | 3.337260 | 26.83983 | 8E | CA-1 | HPF | CA | slice: 8 | OPC |\n",
       "| .ACTCGCTAAACTAAGGTCAGAA | CEMBA190711_8E.ACTCGCTAAACTAAGGTCAGAA | CEMBA190711_8E | 1 | 3.463296 | 21.48760 | 8E | CA-1 | HPF | CA | slice: 8 | OGC |\n",
       "| .ACTGCACAGAATAACGCAAGTC | CEMBA190711_8E.ACTGCACAGAATAACGCAAGTC | CEMBA190711_8E | 1 | 3.271144 | 16.78322 | 8E | CA-1 | HPF | CA | slice: 8 | OGC |\n",
       "| .ACTGCACAGAGAGTGTGGCATA | CEMBA190711_8E.ACTGCACAGAGAGTGTGGCATA | CEMBA190711_8E | 1 | 3.123198 | 21.29870 | 8E | CA-1 | HPF | CA | slice: 8 | OGC |\n",
       "| .AGAGCTGAATCAGAATGCCTGA | CEMBA190711_8E.AGAGCTGAATCAGAATGCCTGA | CEMBA190711_8E | 1 | 3.435367 | 32.72727 | 8E | CA-1 | HPF | CA | slice: 8 | OGC |\n",
       "| ⋮ | ⋮ | ⋮ | ⋮ | ⋮ | ⋮ | ⋮ | ⋮ | ⋮ | ⋮ | ⋮ | ⋮ |\n",
       "| .TTCAAGACGGTCCCTATAGCCA | CEMBA190711_8J.TTCAAGACGGTCCCTATAGCCA | CEMBA190711_8J | 1 | 3.834866 | 28.93726 | 8J | DG-1 | HPF | DG | slice: 8 | LAMGA |\n",
       "| .TTCTCCAGATCAAATGACGGGC | CEMBA190711_8J.TTCTCCAGATCAAATGACGGGC | CEMBA190711_8J | 1 | 3.306211 | 32.72727 | 8J | DG-1 | HPF | DG | slice: 8 | DGNBL |\n",
       "| .TTCTCCAGATGGCCTCTGCAAT | CEMBA190711_8J.TTCTCCAGATGGCCTCTGCAAT | CEMBA190711_8J | 1 | 3.674861 | 22.00957 | 8J | DG-1 | HPF | DG | slice: 8 | LAMGA |\n",
       "| .TTCTCCAGATGGGTTGAACCTA | CEMBA190711_8J.TTCTCCAGATGGGTTGAACCTA | CEMBA190711_8J | 1 | 3.795463 | 20.09569 | 8J | DG-1 | HPF | DG | slice: 8 | DGNBL |\n",
       "| .TTGCGAACGGAAAGGATCGGCT | CEMBA190711_8J.TTGCGAACGGAAAGGATCGGCT | CEMBA190711_8J | 1 | 3.686994 | 31.74603 | 8J | DG-1 | HPF | DG | slice: 8 | DGNBL |\n",
       "| .TTGCGAACGGGCTATTGGTAGG | CEMBA190711_8J.TTGCGAACGGGCTATTGGTAGG | CEMBA190711_8J | 1 | 3.686279 | 20.35278 | 8J | DG-1 | HPF | DG | slice: 8 | DGNBL |\n",
       "| .TTGCGAACGGTCTTTGACGCTG | CEMBA190711_8J.TTGCGAACGGTCTTTGACGCTG | CEMBA190711_8J | 1 | 3.519171 | 24.02597 | 8J | DG-1 | HPF | DG | slice: 8 | DGNBL |\n",
       "| .TTGGACCCAGAGGGACGGATTC | CEMBA190711_8J.TTGGACCCAGAGGGACGGATTC | CEMBA190711_8J | 1 | 3.989539 | 19.30937 | 8J | DG-1 | HPF | DG | slice: 8 | LAMGA |\n",
       "| .TTGGACCCAGCGCGACTTGAGA | CEMBA190711_8J.TTGGACCCAGCGCGACTTGAGA | CEMBA190711_8J | 1 | 3.888292 | 19.21488 | 8J | DG-1 | HPF | DG | slice: 8 | LSXGA |\n",
       "| .TTGGACCCAGGGTTTAGTCGTA | CEMBA190711_8J.TTGGACCCAGGGTTTAGTCGTA | CEMBA190711_8J | 1 | 3.200577 | 21.91142 | 8J | DG-1 | HPF | DG | slice: 8 | CRC   |\n",
       "| .TTGGACCCAGTACAACGTAGCT | CEMBA190711_8J.TTGGACCCAGTACAACGTAGCT | CEMBA190711_8J | 1 | 3.241546 | 27.27273 | 8J | DG-1 | HPF | DG | slice: 8 | DGNBL |\n",
       "| .TTGGACCCAGTACTAAGCAGTG | CEMBA190711_8J.TTGGACCCAGTACTAAGCAGTG | CEMBA190711_8J | 1 | 3.837588 | 24.17355 | 8J | DG-1 | HPF | DG | slice: 8 | LAMGA |\n",
       "| .TTGGACCCAGTCTAATTGCGAC | CEMBA190711_8J.TTGGACCCAGTCTAATTGCGAC | CEMBA190711_8J | 1 | 3.616265 | 19.77671 | 8J | DG-1 | HPF | DG | slice: 8 | VIPGA |\n",
       "| .TTGGACCCAGTGAACCATCGTA | CEMBA190711_8J.TTGGACCCAGTGAACCATCGTA | CEMBA190711_8J | 1 | 3.836451 | 17.64706 | 8J | DG-1 | HPF | DG | slice: 8 | VIPGA |\n",
       "| .TTGGCAAGGAACACGCGTGAAC | CEMBA190711_8J.TTGGCAAGGAACACGCGTGAAC | CEMBA190711_8J | 1 | 3.746011 | 28.89166 | 8J | DG-1 | HPF | DG | slice: 8 | DGNBL |\n",
       "| .TTGGCAAGGAGATGGCAAACAT | CEMBA190711_8J.TTGGCAAGGAGATGGCAAACAT | CEMBA190711_8J | 1 | 3.517196 | 18.85522 | 8J | DG-1 | HPF | DG | slice: 8 | DGNBL |\n",
       "| .TTGGCAAGGAGGGCATAAACGT | CEMBA190711_8J.TTGGCAAGGAGGGCATAAACGT | CEMBA190711_8J | 1 | 3.783761 | 20.94361 | 8J | DG-1 | HPF | DG | slice: 8 | LAMGA |\n",
       "| .TTGTGACATCCGGCGACTAACA | CEMBA190711_8J.TTGTGACATCCGGCGACTAACA | CEMBA190711_8J | 1 | 3.647774 | 15.49925 | 8J | DG-1 | HPF | DG | slice: 8 | DGNBL |\n",
       "| .TTGTGACATCCTGTGAAGAGAA | CEMBA190711_8J.TTGTGACATCCTGTGAAGAGAA | CEMBA190711_8J | 1 | 3.530328 | 24.90119 | 8J | DG-1 | HPF | DG | slice: 8 | CRC   |\n",
       "| .TTGTGACATCGAAGGACCTAGT | CEMBA190711_8J.TTGTGACATCGAAGGACCTAGT | CEMBA190711_8J | 1 | 3.635081 | 23.33333 | 8J | DG-1 | HPF | DG | slice: 8 | CRC   |\n",
       "| .TTGTGACATCTACCGCTTCCAC | CEMBA190711_8J.TTGTGACATCTACCGCTTCCAC | CEMBA190711_8J | 1 | 3.908967 | 25.45455 | 8J | DG-1 | HPF | DG | slice: 8 | DGNBL |\n",
       "| .TTGTGACATCTTGTTCCTCTGC | CEMBA190711_8J.TTGTGACATCTTGTTCCTCTGC | CEMBA190711_8J | 1 | 3.873553 | 17.99438 | 8J | DG-1 | HPF | DG | slice: 8 | DGNBL |\n",
       "| .TTTCTCCTGCGTCGACAGATAG | CEMBA190711_8J.TTTCTCCTGCGTCGACAGATAG | CEMBA190711_8J | 1 | 3.418301 | 11.36364 | 8J | DG-1 | HPF | DG | slice: 8 | OBNBL |\n",
       "| .TTTCTCCTGCGTGCCTTTAAGC | CEMBA190711_8J.TTTCTCCTGCGTGCCTTTAAGC | CEMBA190711_8J | 1 | 3.830332 | 16.45022 | 8J | DG-1 | HPF | DG | slice: 8 | LAMGA |\n",
       "| .TTTGGCGCTTACATCCGGTCTC | CEMBA190711_8J.TTTGGCGCTTACATCCGGTCTC | CEMBA190711_8J | 1 | 3.215638 | 17.55486 | 8J | DG-1 | HPF | DG | slice: 8 | DGNBL |\n",
       "| .TTTGGCGCTTCGACAGTCTTAT | CEMBA190711_8J.TTTGGCGCTTCGACAGTCTTAT | CEMBA190711_8J | 1 | 3.747878 | 21.66874 | 8J | DG-1 | HPF | DG | slice: 8 | VIPGA |\n",
       "| .TTTGGCGCTTGGCACTTCATCT | CEMBA190711_8J.TTTGGCGCTTGGCACTTCATCT | CEMBA190711_8J | 1 | 3.349083 | 16.45022 | 8J | DG-1 | HPF | DG | slice: 8 | DGNBL |\n",
       "| .TTTGGCGCTTGTACAACTCTAG | CEMBA190711_8J.TTTGGCGCTTGTACAACTCTAG | CEMBA190711_8J | 1 | 3.683137 | 16.28223 | 8J | DG-1 | HPF | DG | slice: 8 | DGNBL |\n",
       "| .TTTGGCGCTTTTATGGTAGACC | CEMBA190711_8J.TTTGGCGCTTTTATGGTAGACC | CEMBA190711_8J | 1 | 4.158272 | 23.12253 | 8J | DG-1 | HPF | DG | slice: 8 | LAMGA |\n",
       "| .TTTGGCGCTTTTCCAGAGGTCT | CEMBA190711_8J.TTTGGCGCTTTTCCAGAGGTCT | CEMBA190711_8J | 1 | 3.879555 | 20.23047 | 8J | DG-1 | HPF | DG | slice: 8 | DGNBL |\n",
       "\n"
      ],
      "text/plain": [
       "                        cellID                                sample        \n",
       ".AAACTACCAGAAATTGAGGAGG CEMBA190711_8E.AAACTACCAGAAATTGAGGAGG CEMBA190711_8E\n",
       ".AAACTACCAGAACCCACTATCT CEMBA190711_8E.AAACTACCAGAACCCACTATCT CEMBA190711_8E\n",
       ".AAACTACCAGGAAGGGTGGTAT CEMBA190711_8E.AAACTACCAGGAAGGGTGGTAT CEMBA190711_8E\n",
       ".AAACTACCAGGCGAACGTAGAC CEMBA190711_8E.AAACTACCAGGCGAACGTAGAC CEMBA190711_8E\n",
       ".AAACTACCAGGGCCTCTGCAAT CEMBA190711_8E.AAACTACCAGGGCCTCTGCAAT CEMBA190711_8E\n",
       ".AACTGCGCCAAAGTGTCGTGGA CEMBA190711_8E.AACTGCGCCAAAGTGTCGTGGA CEMBA190711_8E\n",
       ".AACTGCGCCACTTGAGACTCCG CEMBA190711_8E.AACTGCGCCACTTGAGACTCCG CEMBA190711_8E\n",
       ".AACTTCTGCTGGGAACAAGTCA CEMBA190711_8E.AACTTCTGCTGGGAACAAGTCA CEMBA190711_8E\n",
       ".AACTTCTGCTTGCGAAGCTCAC CEMBA190711_8E.AACTTCTGCTTGCGAAGCTCAC CEMBA190711_8E\n",
       ".AAGCTATACCAGGCTCTGCTGA CEMBA190711_8E.AAGCTATACCAGGCTCTGCTGA CEMBA190711_8E\n",
       ".AAGGGTGAAGAAAGCACTAGCG CEMBA190711_8E.AAGGGTGAAGAAAGCACTAGCG CEMBA190711_8E\n",
       ".AAGGGTGAAGAATCCCGCGCTT CEMBA190711_8E.AAGGGTGAAGAATCCCGCGCTT CEMBA190711_8E\n",
       ".AAGGGTGAAGATCATTGAGGCT CEMBA190711_8E.AAGGGTGAAGATCATTGAGGCT CEMBA190711_8E\n",
       ".AAGGGTGAAGGTCACCATAGTA CEMBA190711_8E.AAGGGTGAAGGTCACCATAGTA CEMBA190711_8E\n",
       ".AAGGGTGAAGGTTTGCCACACA CEMBA190711_8E.AAGGGTGAAGGTTTGCCACACA CEMBA190711_8E\n",
       ".AAGGGTGAAGTACGGCTTTCCT CEMBA190711_8E.AAGGGTGAAGTACGGCTTTCCT CEMBA190711_8E\n",
       ".AAGGTAGGGAAAGCTCTCTGAT CEMBA190711_8E.AAGGTAGGGAAAGCTCTCTGAT CEMBA190711_8E\n",
       ".AAGGTAGGGACATGTCCGAGTC CEMBA190711_8E.AAGGTAGGGACATGTCCGAGTC CEMBA190711_8E\n",
       ".AATTCGGATGCGGTGATGACTT CEMBA190711_8E.AATTCGGATGCGGTGATGACTT CEMBA190711_8E\n",
       ".AATTCGGATGGACATCGAGTAG CEMBA190711_8E.AATTCGGATGGACATCGAGTAG CEMBA190711_8E\n",
       ".AATTCGGATGTCGTTTCGCACG CEMBA190711_8E.AATTCGGATGTCGTTTCGCACG CEMBA190711_8E\n",
       ".AATTCGGATGTGGCCAGTACTA CEMBA190711_8E.AATTCGGATGTGGCCAGTACTA CEMBA190711_8E\n",
       ".ACATACCAGGCTGTTGGTCCTT CEMBA190711_8E.ACATACCAGGCTGTTGGTCCTT CEMBA190711_8E\n",
       ".ACATACCAGGGCTTAAGCCGTT CEMBA190711_8E.ACATACCAGGGCTTAAGCCGTT CEMBA190711_8E\n",
       ".ACGATGTACTAGGAGTCGGAGA CEMBA190711_8E.ACGATGTACTAGGAGTCGGAGA CEMBA190711_8E\n",
       ".ACTCCTATGGCGTGATGAGGTA CEMBA190711_8E.ACTCCTATGGCGTGATGAGGTA CEMBA190711_8E\n",
       ".ACTCGCTAAACTAAGGTCAGAA CEMBA190711_8E.ACTCGCTAAACTAAGGTCAGAA CEMBA190711_8E\n",
       ".ACTGCACAGAATAACGCAAGTC CEMBA190711_8E.ACTGCACAGAATAACGCAAGTC CEMBA190711_8E\n",
       ".ACTGCACAGAGAGTGTGGCATA CEMBA190711_8E.ACTGCACAGAGAGTGTGGCATA CEMBA190711_8E\n",
       ".AGAGCTGAATCAGAATGCCTGA CEMBA190711_8E.AGAGCTGAATCAGAATGCCTGA CEMBA190711_8E\n",
       "⋮                       ⋮                                     ⋮             \n",
       ".TTCAAGACGGTCCCTATAGCCA CEMBA190711_8J.TTCAAGACGGTCCCTATAGCCA CEMBA190711_8J\n",
       ".TTCTCCAGATCAAATGACGGGC CEMBA190711_8J.TTCTCCAGATCAAATGACGGGC CEMBA190711_8J\n",
       ".TTCTCCAGATGGCCTCTGCAAT CEMBA190711_8J.TTCTCCAGATGGCCTCTGCAAT CEMBA190711_8J\n",
       ".TTCTCCAGATGGGTTGAACCTA CEMBA190711_8J.TTCTCCAGATGGGTTGAACCTA CEMBA190711_8J\n",
       ".TTGCGAACGGAAAGGATCGGCT CEMBA190711_8J.TTGCGAACGGAAAGGATCGGCT CEMBA190711_8J\n",
       ".TTGCGAACGGGCTATTGGTAGG CEMBA190711_8J.TTGCGAACGGGCTATTGGTAGG CEMBA190711_8J\n",
       ".TTGCGAACGGTCTTTGACGCTG CEMBA190711_8J.TTGCGAACGGTCTTTGACGCTG CEMBA190711_8J\n",
       ".TTGGACCCAGAGGGACGGATTC CEMBA190711_8J.TTGGACCCAGAGGGACGGATTC CEMBA190711_8J\n",
       ".TTGGACCCAGCGCGACTTGAGA CEMBA190711_8J.TTGGACCCAGCGCGACTTGAGA CEMBA190711_8J\n",
       ".TTGGACCCAGGGTTTAGTCGTA CEMBA190711_8J.TTGGACCCAGGGTTTAGTCGTA CEMBA190711_8J\n",
       ".TTGGACCCAGTACAACGTAGCT CEMBA190711_8J.TTGGACCCAGTACAACGTAGCT CEMBA190711_8J\n",
       ".TTGGACCCAGTACTAAGCAGTG CEMBA190711_8J.TTGGACCCAGTACTAAGCAGTG CEMBA190711_8J\n",
       ".TTGGACCCAGTCTAATTGCGAC CEMBA190711_8J.TTGGACCCAGTCTAATTGCGAC CEMBA190711_8J\n",
       ".TTGGACCCAGTGAACCATCGTA CEMBA190711_8J.TTGGACCCAGTGAACCATCGTA CEMBA190711_8J\n",
       ".TTGGCAAGGAACACGCGTGAAC CEMBA190711_8J.TTGGCAAGGAACACGCGTGAAC CEMBA190711_8J\n",
       ".TTGGCAAGGAGATGGCAAACAT CEMBA190711_8J.TTGGCAAGGAGATGGCAAACAT CEMBA190711_8J\n",
       ".TTGGCAAGGAGGGCATAAACGT CEMBA190711_8J.TTGGCAAGGAGGGCATAAACGT CEMBA190711_8J\n",
       ".TTGTGACATCCGGCGACTAACA CEMBA190711_8J.TTGTGACATCCGGCGACTAACA CEMBA190711_8J\n",
       ".TTGTGACATCCTGTGAAGAGAA CEMBA190711_8J.TTGTGACATCCTGTGAAGAGAA CEMBA190711_8J\n",
       ".TTGTGACATCGAAGGACCTAGT CEMBA190711_8J.TTGTGACATCGAAGGACCTAGT CEMBA190711_8J\n",
       ".TTGTGACATCTACCGCTTCCAC CEMBA190711_8J.TTGTGACATCTACCGCTTCCAC CEMBA190711_8J\n",
       ".TTGTGACATCTTGTTCCTCTGC CEMBA190711_8J.TTGTGACATCTTGTTCCTCTGC CEMBA190711_8J\n",
       ".TTTCTCCTGCGTCGACAGATAG CEMBA190711_8J.TTTCTCCTGCGTCGACAGATAG CEMBA190711_8J\n",
       ".TTTCTCCTGCGTGCCTTTAAGC CEMBA190711_8J.TTTCTCCTGCGTGCCTTTAAGC CEMBA190711_8J\n",
       ".TTTGGCGCTTACATCCGGTCTC CEMBA190711_8J.TTTGGCGCTTACATCCGGTCTC CEMBA190711_8J\n",
       ".TTTGGCGCTTCGACAGTCTTAT CEMBA190711_8J.TTTGGCGCTTCGACAGTCTTAT CEMBA190711_8J\n",
       ".TTTGGCGCTTGGCACTTCATCT CEMBA190711_8J.TTTGGCGCTTGGCACTTCATCT CEMBA190711_8J\n",
       ".TTTGGCGCTTGTACAACTCTAG CEMBA190711_8J.TTTGGCGCTTGTACAACTCTAG CEMBA190711_8J\n",
       ".TTTGGCGCTTTTATGGTAGACC CEMBA190711_8J.TTTGGCGCTTTTATGGTAGACC CEMBA190711_8J\n",
       ".TTTGGCGCTTTTCCAGAGGTCT CEMBA190711_8J.TTTGGCGCTTTTCCAGAGGTCT CEMBA190711_8J\n",
       "                        replicate logUMI   tsse     DissectionRegion RegionName\n",
       ".AAACTACCAGAAATTGAGGAGG 1         3.201943 22.07792 8E               CA-1      \n",
       ".AAACTACCAGAACCCACTATCT 1         3.595717 24.71591 8E               CA-1      \n",
       ".AAACTACCAGGAAGGGTGGTAT 1         3.289143 23.52941 8E               CA-1      \n",
       ".AAACTACCAGGCGAACGTAGAC 1         3.349472 26.34508 8E               CA-1      \n",
       ".AAACTACCAGGGCCTCTGCAAT 1         3.385070 23.86364 8E               CA-1      \n",
       ".AACTGCGCCAAAGTGTCGTGGA 1         3.073718 32.00000 8E               CA-1      \n",
       ".AACTGCGCCACTTGAGACTCCG 1         3.080987 23.77622 8E               CA-1      \n",
       ".AACTTCTGCTGGGAACAAGTCA 1         3.053463 21.59091 8E               CA-1      \n",
       ".AACTTCTGCTTGCGAAGCTCAC 1         3.171726 20.29598 8E               CA-1      \n",
       ".AAGCTATACCAGGCTCTGCTGA 1         3.258158 22.11302 8E               CA-1      \n",
       ".AAGGGTGAAGAAAGCACTAGCG 1         3.034628 22.57053 8E               CA-1      \n",
       ".AAGGGTGAAGAATCCCGCGCTT 1         3.012415 19.94135 8E               CA-1      \n",
       ".AAGGGTGAAGATCATTGAGGCT 1         3.178977 22.85714 8E               CA-1      \n",
       ".AAGGGTGAAGGTCACCATAGTA 1         3.131298 14.28571 8E               CA-1      \n",
       ".AAGGGTGAAGGTTTGCCACACA 1         3.110590 21.67832 8E               CA-1      \n",
       ".AAGGGTGAAGTACGGCTTTCCT 1         3.089552 16.36364 8E               CA-1      \n",
       ".AAGGTAGGGAAAGCTCTCTGAT 1         3.014100 20.97902 8E               CA-1      \n",
       ".AAGGTAGGGACATGTCCGAGTC 1         3.460898 20.12987 8E               CA-1      \n",
       ".AATTCGGATGCGGTGATGACTT 1         3.118595 23.44498 8E               CA-1      \n",
       ".AATTCGGATGGACATCGAGTAG 1         3.118595 25.25253 8E               CA-1      \n",
       ".AATTCGGATGTCGTTTCGCACG 1         3.376029 21.34387 8E               CA-1      \n",
       ".AATTCGGATGTGGCCAGTACTA 1         3.233504 33.33333 8E               CA-1      \n",
       ".ACATACCAGGCTGTTGGTCCTT 1         3.072617 26.62338 8E               CA-1      \n",
       ".ACATACCAGGGCTTAAGCCGTT 1         3.070038 21.31661 8E               CA-1      \n",
       ".ACGATGTACTAGGAGTCGGAGA 1         3.166430 20.57416 8E               CA-1      \n",
       ".ACTCCTATGGCGTGATGAGGTA 1         3.337260 26.83983 8E               CA-1      \n",
       ".ACTCGCTAAACTAAGGTCAGAA 1         3.463296 21.48760 8E               CA-1      \n",
       ".ACTGCACAGAATAACGCAAGTC 1         3.271144 16.78322 8E               CA-1      \n",
       ".ACTGCACAGAGAGTGTGGCATA 1         3.123198 21.29870 8E               CA-1      \n",
       ".AGAGCTGAATCAGAATGCCTGA 1         3.435367 32.72727 8E               CA-1      \n",
       "⋮                       ⋮         ⋮        ⋮        ⋮                ⋮         \n",
       ".TTCAAGACGGTCCCTATAGCCA 1         3.834866 28.93726 8J               DG-1      \n",
       ".TTCTCCAGATCAAATGACGGGC 1         3.306211 32.72727 8J               DG-1      \n",
       ".TTCTCCAGATGGCCTCTGCAAT 1         3.674861 22.00957 8J               DG-1      \n",
       ".TTCTCCAGATGGGTTGAACCTA 1         3.795463 20.09569 8J               DG-1      \n",
       ".TTGCGAACGGAAAGGATCGGCT 1         3.686994 31.74603 8J               DG-1      \n",
       ".TTGCGAACGGGCTATTGGTAGG 1         3.686279 20.35278 8J               DG-1      \n",
       ".TTGCGAACGGTCTTTGACGCTG 1         3.519171 24.02597 8J               DG-1      \n",
       ".TTGGACCCAGAGGGACGGATTC 1         3.989539 19.30937 8J               DG-1      \n",
       ".TTGGACCCAGCGCGACTTGAGA 1         3.888292 19.21488 8J               DG-1      \n",
       ".TTGGACCCAGGGTTTAGTCGTA 1         3.200577 21.91142 8J               DG-1      \n",
       ".TTGGACCCAGTACAACGTAGCT 1         3.241546 27.27273 8J               DG-1      \n",
       ".TTGGACCCAGTACTAAGCAGTG 1         3.837588 24.17355 8J               DG-1      \n",
       ".TTGGACCCAGTCTAATTGCGAC 1         3.616265 19.77671 8J               DG-1      \n",
       ".TTGGACCCAGTGAACCATCGTA 1         3.836451 17.64706 8J               DG-1      \n",
       ".TTGGCAAGGAACACGCGTGAAC 1         3.746011 28.89166 8J               DG-1      \n",
       ".TTGGCAAGGAGATGGCAAACAT 1         3.517196 18.85522 8J               DG-1      \n",
       ".TTGGCAAGGAGGGCATAAACGT 1         3.783761 20.94361 8J               DG-1      \n",
       ".TTGTGACATCCGGCGACTAACA 1         3.647774 15.49925 8J               DG-1      \n",
       ".TTGTGACATCCTGTGAAGAGAA 1         3.530328 24.90119 8J               DG-1      \n",
       ".TTGTGACATCGAAGGACCTAGT 1         3.635081 23.33333 8J               DG-1      \n",
       ".TTGTGACATCTACCGCTTCCAC 1         3.908967 25.45455 8J               DG-1      \n",
       ".TTGTGACATCTTGTTCCTCTGC 1         3.873553 17.99438 8J               DG-1      \n",
       ".TTTCTCCTGCGTCGACAGATAG 1         3.418301 11.36364 8J               DG-1      \n",
       ".TTTCTCCTGCGTGCCTTTAAGC 1         3.830332 16.45022 8J               DG-1      \n",
       ".TTTGGCGCTTACATCCGGTCTC 1         3.215638 17.55486 8J               DG-1      \n",
       ".TTTGGCGCTTCGACAGTCTTAT 1         3.747878 21.66874 8J               DG-1      \n",
       ".TTTGGCGCTTGGCACTTCATCT 1         3.349083 16.45022 8J               DG-1      \n",
       ".TTTGGCGCTTGTACAACTCTAG 1         3.683137 16.28223 8J               DG-1      \n",
       ".TTTGGCGCTTTTATGGTAGACC 1         4.158272 23.12253 8J               DG-1      \n",
       ".TTTGGCGCTTTTCCAGAGGTCT 1         3.879555 20.23047 8J               DG-1      \n",
       "                        MajorRegion SubRegion Slice    SubClass\n",
       ".AAACTACCAGAAATTGAGGAGG HPF         CA        slice: 8 ASC     \n",
       ".AAACTACCAGAACCCACTATCT HPF         CA        slice: 8 OPC     \n",
       ".AAACTACCAGGAAGGGTGGTAT HPF         CA        slice: 8 ASC     \n",
       ".AAACTACCAGGCGAACGTAGAC HPF         CA        slice: 8 ASC     \n",
       ".AAACTACCAGGGCCTCTGCAAT HPF         CA        slice: 8 OGC     \n",
       ".AACTGCGCCAAAGTGTCGTGGA HPF         CA        slice: 8 ASC     \n",
       ".AACTGCGCCACTTGAGACTCCG HPF         CA        slice: 8 OGC     \n",
       ".AACTTCTGCTGGGAACAAGTCA HPF         CA        slice: 8 ASC     \n",
       ".AACTTCTGCTTGCGAAGCTCAC HPF         CA        slice: 8 ASC     \n",
       ".AAGCTATACCAGGCTCTGCTGA HPF         CA        slice: 8 OPC     \n",
       ".AAGGGTGAAGAAAGCACTAGCG HPF         CA        slice: 8 OGC     \n",
       ".AAGGGTGAAGAATCCCGCGCTT HPF         CA        slice: 8 ASC     \n",
       ".AAGGGTGAAGATCATTGAGGCT HPF         CA        slice: 8 RGL     \n",
       ".AAGGGTGAAGGTCACCATAGTA HPF         CA        slice: 8 MGL     \n",
       ".AAGGGTGAAGGTTTGCCACACA HPF         CA        slice: 8 OGC     \n",
       ".AAGGGTGAAGTACGGCTTTCCT HPF         CA        slice: 8 OGC     \n",
       ".AAGGTAGGGAAAGCTCTCTGAT HPF         CA        slice: 8 RGL     \n",
       ".AAGGTAGGGACATGTCCGAGTC HPF         CA        slice: 8 RGL     \n",
       ".AATTCGGATGCGGTGATGACTT HPF         CA        slice: 8 OGC     \n",
       ".AATTCGGATGGACATCGAGTAG HPF         CA        slice: 8 OGC     \n",
       ".AATTCGGATGTCGTTTCGCACG HPF         CA        slice: 8 OPC     \n",
       ".AATTCGGATGTGGCCAGTACTA HPF         CA        slice: 8 OGC     \n",
       ".ACATACCAGGCTGTTGGTCCTT HPF         CA        slice: 8 OGC     \n",
       ".ACATACCAGGGCTTAAGCCGTT HPF         CA        slice: 8 OGC     \n",
       ".ACGATGTACTAGGAGTCGGAGA HPF         CA        slice: 8 OGC     \n",
       ".ACTCCTATGGCGTGATGAGGTA HPF         CA        slice: 8 OPC     \n",
       ".ACTCGCTAAACTAAGGTCAGAA HPF         CA        slice: 8 OGC     \n",
       ".ACTGCACAGAATAACGCAAGTC HPF         CA        slice: 8 OGC     \n",
       ".ACTGCACAGAGAGTGTGGCATA HPF         CA        slice: 8 OGC     \n",
       ".AGAGCTGAATCAGAATGCCTGA HPF         CA        slice: 8 OGC     \n",
       "⋮                       ⋮           ⋮         ⋮        ⋮       \n",
       ".TTCAAGACGGTCCCTATAGCCA HPF         DG        slice: 8 LAMGA   \n",
       ".TTCTCCAGATCAAATGACGGGC HPF         DG        slice: 8 DGNBL   \n",
       ".TTCTCCAGATGGCCTCTGCAAT HPF         DG        slice: 8 LAMGA   \n",
       ".TTCTCCAGATGGGTTGAACCTA HPF         DG        slice: 8 DGNBL   \n",
       ".TTGCGAACGGAAAGGATCGGCT HPF         DG        slice: 8 DGNBL   \n",
       ".TTGCGAACGGGCTATTGGTAGG HPF         DG        slice: 8 DGNBL   \n",
       ".TTGCGAACGGTCTTTGACGCTG HPF         DG        slice: 8 DGNBL   \n",
       ".TTGGACCCAGAGGGACGGATTC HPF         DG        slice: 8 LAMGA   \n",
       ".TTGGACCCAGCGCGACTTGAGA HPF         DG        slice: 8 LSXGA   \n",
       ".TTGGACCCAGGGTTTAGTCGTA HPF         DG        slice: 8 CRC     \n",
       ".TTGGACCCAGTACAACGTAGCT HPF         DG        slice: 8 DGNBL   \n",
       ".TTGGACCCAGTACTAAGCAGTG HPF         DG        slice: 8 LAMGA   \n",
       ".TTGGACCCAGTCTAATTGCGAC HPF         DG        slice: 8 VIPGA   \n",
       ".TTGGACCCAGTGAACCATCGTA HPF         DG        slice: 8 VIPGA   \n",
       ".TTGGCAAGGAACACGCGTGAAC HPF         DG        slice: 8 DGNBL   \n",
       ".TTGGCAAGGAGATGGCAAACAT HPF         DG        slice: 8 DGNBL   \n",
       ".TTGGCAAGGAGGGCATAAACGT HPF         DG        slice: 8 LAMGA   \n",
       ".TTGTGACATCCGGCGACTAACA HPF         DG        slice: 8 DGNBL   \n",
       ".TTGTGACATCCTGTGAAGAGAA HPF         DG        slice: 8 CRC     \n",
       ".TTGTGACATCGAAGGACCTAGT HPF         DG        slice: 8 CRC     \n",
       ".TTGTGACATCTACCGCTTCCAC HPF         DG        slice: 8 DGNBL   \n",
       ".TTGTGACATCTTGTTCCTCTGC HPF         DG        slice: 8 DGNBL   \n",
       ".TTTCTCCTGCGTCGACAGATAG HPF         DG        slice: 8 OBNBL   \n",
       ".TTTCTCCTGCGTGCCTTTAAGC HPF         DG        slice: 8 LAMGA   \n",
       ".TTTGGCGCTTACATCCGGTCTC HPF         DG        slice: 8 DGNBL   \n",
       ".TTTGGCGCTTCGACAGTCTTAT HPF         DG        slice: 8 VIPGA   \n",
       ".TTTGGCGCTTGGCACTTCATCT HPF         DG        slice: 8 DGNBL   \n",
       ".TTTGGCGCTTGTACAACTCTAG HPF         DG        slice: 8 DGNBL   \n",
       ".TTTGGCGCTTTTATGGTAGACC HPF         DG        slice: 8 LAMGA   \n",
       ".TTTGGCGCTTTTCCAGAGGTCT HPF         DG        slice: 8 DGNBL   "
      ]
     },
     "metadata": {},
     "output_type": "display_data"
    }
   ],
   "source": [
    "metadata_sub"
   ]
  },
  {
   "cell_type": "code",
   "execution_count": 5,
   "id": "f3735bae-df1d-4038-886b-10cefe89e82b",
   "metadata": {
    "tags": []
   },
   "outputs": [
    {
     "data": {
      "text/html": [
       "16270"
      ],
      "text/latex": [
       "16270"
      ],
      "text/markdown": [
       "16270"
      ],
      "text/plain": [
       "[1] 16270"
      ]
     },
     "metadata": {},
     "output_type": "display_data"
    }
   ],
   "source": [
    "length(cells)"
   ]
  },
  {
   "cell_type": "code",
   "execution_count": 6,
   "id": "b257bc5b-22fe-452c-a73e-e217201fedb5",
   "metadata": {
    "tags": []
   },
   "outputs": [
    {
     "name": "stderr",
     "output_type": "stream",
     "text": [
      "Computing hash\n",
      "\n"
     ]
    }
   ],
   "source": [
    "frags <- CreateFragmentObject(\n",
    "  path = \"/mnt/disk1/xiaojk/data/hippocampus/fragments.sort.bed.gz\",\n",
    "  cells = cells,\n",
    "  validate.fragments = FALSE\n",
    ")"
   ]
  },
  {
   "cell_type": "code",
   "execution_count": 25,
   "id": "c77e6395-3a9d-4e26-9987-455383494e23",
   "metadata": {},
   "outputs": [
    {
     "data": {
      "text/plain": [
       "A Fragment object for 16270 cells"
      ]
     },
     "metadata": {},
     "output_type": "display_data"
    }
   ],
   "source": [
    "frags"
   ]
  },
  {
   "cell_type": "code",
   "execution_count": 8,
   "id": "79abdb0c-04dc-4949-8c0f-f9c53844076c",
   "metadata": {},
   "outputs": [],
   "source": [
    "attr(frags@cells, \".match.hash\") <- NULL"
   ]
  },
  {
   "cell_type": "code",
   "execution_count": 9,
   "id": "30995678-8c86-45cf-ac0e-dbe5e1dee017",
   "metadata": {},
   "outputs": [],
   "source": [
    "unified.peaks <- read.table(\"/mnt/disk1/xiaojk/data/hippocampus/unified_peaks.bed\", sep = \"\\t\", header = TRUE)\n",
    "unified.peaks <- makeGRangesFromDataFrame(unified.peaks)"
   ]
  },
  {
   "cell_type": "code",
   "execution_count": 10,
   "id": "2b293a55-590c-46a1-9713-7f1fe1833d6a",
   "metadata": {
    "tags": []
   },
   "outputs": [
    {
     "data": {
      "text/plain": [
       "GRanges object with 88333 ranges and 0 metadata columns:\n",
       "          seqnames          ranges strand\n",
       "             <Rle>       <IRanges>  <Rle>\n",
       "      [1]     chr1 3012371-3012843      *\n",
       "      [2]     chr1 3060652-3061121      *\n",
       "      [3]     chr1 3094790-3095399      *\n",
       "      [4]     chr1 3113044-3113920      *\n",
       "      [5]     chr1 3119264-3120628      *\n",
       "      ...      ...             ...    ...\n",
       "  [88329]     chrY   872791-873259      *\n",
       "  [88330]     chrY   896966-898147      *\n",
       "  [88331]     chrY 1009367-1010739      *\n",
       "  [88332]     chrY 1114059-1114362      *\n",
       "  [88333]     chrY 1244820-1246026      *\n",
       "  -------\n",
       "  seqinfo: 21 sequences from an unspecified genome; no seqlengths"
      ]
     },
     "metadata": {},
     "output_type": "display_data"
    }
   ],
   "source": [
    "unified.peaks"
   ]
  },
  {
   "cell_type": "code",
   "execution_count": 11,
   "id": "473bd745-c5ee-4bd2-8a05-4dcb02505aee",
   "metadata": {},
   "outputs": [
    {
     "data": {
      "text/plain": [
       "A Fragment object for 16270 cells"
      ]
     },
     "metadata": {},
     "output_type": "display_data"
    }
   ],
   "source": [
    "frags"
   ]
  },
  {
   "cell_type": "code",
   "execution_count": 24,
   "id": "9bdb2f24-2f1c-4dd0-abd5-536df02b0813",
   "metadata": {},
   "outputs": [
    {
     "name": "stderr",
     "output_type": "stream",
     "text": [
      "Extracting reads overlapping genomic regions\n",
      "\n"
     ]
    }
   ],
   "source": [
    "# quantify  这里是关键，统计生成peak矩阵\n",
    "counts <- FeatureMatrix(\n",
    "  fragments = frags,\n",
    "  features = unified.peaks,\n",
    "#   cells = cells,\n",
    "  process_n = 2000\n",
    ")\n",
    "#   cells = cells"
   ]
  },
  {
   "cell_type": "code",
   "execution_count": 26,
   "id": "3f99a688-51c0-495d-a9fe-437af2561683",
   "metadata": {
    "tags": []
   },
   "outputs": [
    {
     "data": {
      "text/html": [
       "<style>\n",
       ".list-inline {list-style: none; margin:0; padding: 0}\n",
       ".list-inline>li {display: inline-block}\n",
       ".list-inline>li:not(:last-child)::after {content: \"\\00b7\"; padding: 0 .5ex}\n",
       "</style>\n",
       "<ol class=list-inline><li>88333</li><li>16270</li></ol>\n"
      ],
      "text/latex": [
       "\\begin{enumerate*}\n",
       "\\item 88333\n",
       "\\item 16270\n",
       "\\end{enumerate*}\n"
      ],
      "text/markdown": [
       "1. 88333\n",
       "2. 16270\n",
       "\n",
       "\n"
      ],
      "text/plain": [
       "[1] 88333 16270"
      ]
     },
     "metadata": {},
     "output_type": "display_data"
    }
   ],
   "source": [
    "dim(counts)"
   ]
  },
  {
   "cell_type": "code",
   "execution_count": 14,
   "id": "93184eea-c51d-4b8d-a22c-1b33dd3a3037",
   "metadata": {},
   "outputs": [],
   "source": [
    "comm_cell <- intersect(cells, colnames(counts)) ## 取交集"
   ]
  },
  {
   "cell_type": "code",
   "execution_count": 15,
   "id": "7b9fe610-4fb2-475b-9a8b-dbaf57434687",
   "metadata": {},
   "outputs": [
    {
     "data": {
      "text/html": [
       "16270"
      ],
      "text/latex": [
       "16270"
      ],
      "text/markdown": [
       "16270"
      ],
      "text/plain": [
       "[1] 16270"
      ]
     },
     "metadata": {},
     "output_type": "display_data"
    }
   ],
   "source": [
    "length(unique(comm_cell))"
   ]
  },
  {
   "cell_type": "code",
   "execution_count": 16,
   "id": "6018e9fe-c123-406a-ab8e-8f16a02259d4",
   "metadata": {},
   "outputs": [
    {
     "data": {
      "text/html": [
       "<style>\n",
       ".list-inline {list-style: none; margin:0; padding: 0}\n",
       ".list-inline>li {display: inline-block}\n",
       ".list-inline>li:not(:last-child)::after {content: \"\\00b7\"; padding: 0 .5ex}\n",
       "</style>\n",
       "<ol class=list-inline><li>16270</li><li>11</li></ol>\n"
      ],
      "text/latex": [
       "\\begin{enumerate*}\n",
       "\\item 16270\n",
       "\\item 11\n",
       "\\end{enumerate*}\n"
      ],
      "text/markdown": [
       "1. 16270\n",
       "2. 11\n",
       "\n",
       "\n"
      ],
      "text/plain": [
       "[1] 16270    11"
      ]
     },
     "metadata": {},
     "output_type": "display_data"
    }
   ],
   "source": [
    "dim(metadata_sub)"
   ]
  },
  {
   "cell_type": "code",
   "execution_count": 17,
   "id": "83a528f2-eb33-4ee4-a91c-ad4797fbd7bc",
   "metadata": {},
   "outputs": [],
   "source": [
    "counts_sub <- counts[,comm_cell] "
   ]
  },
  {
   "cell_type": "code",
   "execution_count": 18,
   "id": "a6869a2b-5755-4578-b453-c31a55b9a528",
   "metadata": {},
   "outputs": [
    {
     "data": {
      "text/html": [
       "<style>\n",
       ".list-inline {list-style: none; margin:0; padding: 0}\n",
       ".list-inline>li {display: inline-block}\n",
       ".list-inline>li:not(:last-child)::after {content: \"\\00b7\"; padding: 0 .5ex}\n",
       "</style>\n",
       "<ol class=list-inline><li>88333</li><li>16270</li></ol>\n"
      ],
      "text/latex": [
       "\\begin{enumerate*}\n",
       "\\item 88333\n",
       "\\item 16270\n",
       "\\end{enumerate*}\n"
      ],
      "text/markdown": [
       "1. 88333\n",
       "2. 16270\n",
       "\n",
       "\n"
      ],
      "text/plain": [
       "[1] 88333 16270"
      ]
     },
     "metadata": {},
     "output_type": "display_data"
    }
   ],
   "source": [
    "dim(counts_sub)"
   ]
  },
  {
   "cell_type": "code",
   "execution_count": 19,
   "id": "c3a1ba14-8cf6-4537-8219-99e91f4d04af",
   "metadata": {},
   "outputs": [],
   "source": [
    "rownames(metadata_sub) <- substring(metadata_sub$cellID, 15)\n",
    "csums <- colSums(counts_sub)\n",
    "rsums <- rowSums(counts_sub)\n",
    "counts_sub <- counts_sub[rsums > 100, csums > 100]"
   ]
  },
  {
   "cell_type": "code",
   "execution_count": 20,
   "id": "a15ddbd1-d817-4713-96e8-0ea002f3abc9",
   "metadata": {},
   "outputs": [
    {
     "data": {
      "text/plain": [
       "0 x 0 sparse Matrix of class \"ngCMatrix\"\n",
       "<0 x 0 matrix>"
      ]
     },
     "metadata": {},
     "output_type": "display_data"
    }
   ],
   "source": [
    "counts_sub"
   ]
  },
  {
   "cell_type": "code",
   "execution_count": 21,
   "id": "3c4b3be2-252b-45d9-9a6a-aa4b679747eb",
   "metadata": {},
   "outputs": [
    {
     "ename": "ERROR",
     "evalue": "Error in CreateAssayObject(counts = counts, min.cells = min.cells, min.features = min.features, : No cell names (colnames) names present in the input matrix\n",
     "output_type": "error",
     "traceback": [
      "Error in CreateAssayObject(counts = counts, min.cells = min.cells, min.features = min.features, : No cell names (colnames) names present in the input matrix\nTraceback:\n",
      "1. CreateSeuratObject(counts = counts_sub, fragments = frags, genome = \"mm10\", \n .     annotation = annotations)",
      "2. CreateSeuratObject.default(counts = counts_sub, fragments = frags, \n .     genome = \"mm10\", annotation = annotations)",
      "3. CreateAssayObject(counts = counts, min.cells = min.cells, min.features = min.features, \n .     row.names = row.names)",
      "4. stop(\"No cell names (colnames) names present in the input matrix\")"
     ]
    }
   ],
   "source": [
    "pbmc <- CreateSeuratObject(\n",
    "  counts = counts_sub,\n",
    "  fragments = frags,\n",
    "  genome = \"mm10\",\n",
    "  annotation = annotations\n",
    ")\n",
    "\n",
    "biccn <- CreateSeuratObject(\n",
    "  counts = biccn_assay,\n",
    "  assay = \"ATAC\",\n",
    "  project = \"BICCN\",\n",
    "  meta.data = metadata_sub\n",
    ")"
   ]
  },
  {
   "cell_type": "code",
   "execution_count": null,
   "id": "8b42ccc1-6acd-435b-9e1e-955ef731979f",
   "metadata": {},
   "outputs": [],
   "source": [
    "pbmc"
   ]
  },
  {
   "cell_type": "code",
   "execution_count": null,
   "id": "b8de2afa-9afa-4c61-b4e5-94ac4451ebd4",
   "metadata": {
    "tags": []
   },
   "outputs": [],
   "source": [
    "granges(pbmc)"
   ]
  },
  {
   "cell_type": "code",
   "execution_count": null,
   "id": "c9d895be-ad99-41f0-b357-aa00c5f14a4f",
   "metadata": {
    "tags": []
   },
   "outputs": [],
   "source": [
    "# extract gene annotations from EnsDb\n",
    "annotations <- GetGRangesFromEnsDb(ensdb = EnsDb.Mmusculus.v79)\n",
    "\n",
    "# change to UCSC style since the data was mapped to hg19\n",
    "seqlevels(annotations) <- paste0('chr', seqlevels(annotations))\n",
    "genome(annotations) <- \"mm10\""
   ]
  },
  {
   "cell_type": "code",
   "execution_count": null,
   "id": "12573445-b90f-480c-b7a8-4adcbef06452",
   "metadata": {},
   "outputs": [],
   "source": [
    "# add the gene information to the object\n",
    "Annotation(pbmc) <- annotations"
   ]
  },
  {
   "cell_type": "code",
   "execution_count": null,
   "id": "5f68a934-99d0-458a-896f-3a9395fa5b5a",
   "metadata": {},
   "outputs": [],
   "source": [
    "annotations"
   ]
  },
  {
   "cell_type": "code",
   "execution_count": null,
   "id": "35e2bcb7-463e-488e-ae0d-66383581ce26",
   "metadata": {
    "tags": []
   },
   "outputs": [],
   "source": [
    "# compute nucleosome signal score per cell\n",
    "pbmc <- NucleosomeSignal(object = pbmc)\n",
    "\n",
    "# compute TSS enrichment score per cell\n",
    "pbmc <- TSSEnrichment(object = pbmc, fast = FALSE)"
   ]
  },
  {
   "cell_type": "code",
   "execution_count": null,
   "id": "9ad2aefc-dbd1-4efc-a330-108a74d70fda",
   "metadata": {
    "tags": []
   },
   "outputs": [],
   "source": [
    "pbmc$blacklist_fraction <- FractionCountsInRegion(\n",
    "  object = pbmc,\n",
    "  assay = 'peaks',\n",
    "  regions = blacklist_mm10\n",
    ")"
   ]
  },
  {
   "cell_type": "code",
   "execution_count": null,
   "id": "78e03a4d-cbd9-4d7c-87b2-fbbceb3c01af",
   "metadata": {},
   "outputs": [],
   "source": [
    "# add blacklist ratio and fraction of reads in peaks\n",
    "# pbmc$pct_reads_in_peaks <- pbmc$peak_region_fragments / pbmc$passed_filters * 100\n",
    "# pbmc$blacklist_ratio <- pbmc$blacklist_region_fragments / pbmc$peak_region_fragments"
   ]
  },
  {
   "cell_type": "code",
   "execution_count": null,
   "id": "83dbf080-91db-471a-9d38-dd6fe52eeab8",
   "metadata": {},
   "outputs": [],
   "source": [
    "DensityScatter(pbmc, x = 'nCount_peaks', y = 'TSS.enrichment', log_x = TRUE, quantiles = TRUE)"
   ]
  },
  {
   "cell_type": "code",
   "execution_count": null,
   "id": "f8e4fd93-2f05-41d1-bcae-6d46ddd870e5",
   "metadata": {},
   "outputs": [],
   "source": [
    "pbmc$high.tss <- ifelse(pbmc$TSS.enrichment > 3, 'High', 'Low')\n",
    "TSSPlot(pbmc, group.by = 'high.tss') + NoLegend()"
   ]
  },
  {
   "cell_type": "code",
   "execution_count": null,
   "id": "cc272007-a263-4318-a3d3-710049dc349c",
   "metadata": {},
   "outputs": [],
   "source": [
    "# pbmc$nucleosome_group <- ifelse(pbmc$nucleosome_signal > 4, 'NS > 4', 'NS < 4')\n",
    "# FragmentHistogram(object = pbmc, group.by = 'nucleosome_group')"
   ]
  },
  {
   "cell_type": "code",
   "execution_count": null,
   "id": "ade70195-a729-4972-a290-ee3b21d6576b",
   "metadata": {},
   "outputs": [],
   "source": [
    "VlnPlot(\n",
    "  object = pbmc,\n",
    "  features = c('nCount_peaks', 'TSS.enrichment', 'nucleosome_signal', 'pct_reads_in_peaks'),\n",
    "  pt.size = 0.1,\n",
    "  ncol = 3\n",
    ")"
   ]
  },
  {
   "cell_type": "code",
   "execution_count": null,
   "id": "d27fc632-9f76-4530-bcac-9a54caad439e",
   "metadata": {},
   "outputs": [],
   "source": [
    "pbmc <- subset(\n",
    "  x = pbmc,\n",
    "  subset = blacklist_fraction < 0.03 &\n",
    "    TSS.enrichment < 20 \n",
    ")\n",
    "pbmc"
   ]
  },
  {
   "cell_type": "code",
   "execution_count": null,
   "id": "b6b78132-69f9-4a32-87a6-3e504aa1356f",
   "metadata": {},
   "outputs": [],
   "source": [
    "pbmc <- RunTFIDF(pbmc)\n",
    "pbmc <- FindTopFeatures(pbmc, min.cutoff = 'q0')\n",
    "pbmc <- RunSVD(pbmc)"
   ]
  },
  {
   "cell_type": "code",
   "execution_count": null,
   "id": "2ed1c629-84ab-4395-85d2-bddbbc46a3ef",
   "metadata": {},
   "outputs": [],
   "source": [
    "DepthCor(pbmc)"
   ]
  },
  {
   "cell_type": "code",
   "execution_count": null,
   "id": "14b7ecd4-b330-4a92-9619-cc85a61c1b72",
   "metadata": {
    "tags": []
   },
   "outputs": [],
   "source": [
    "pbmc <- RunUMAP(object = pbmc, reduction = 'lsi', dims = 2:30)\n",
    "pbmc <- FindNeighbors(object = pbmc, reduction = 'lsi', dims = 2:30)\n",
    "pbmc <- FindClusters(object = pbmc, verbose = FALSE, algorithm = 3)\n",
    "DimPlot(object = pbmc, label = TRUE) + NoLegend()"
   ]
  },
  {
   "cell_type": "code",
   "execution_count": null,
   "id": "629844f9-c9b2-40c1-b453-938f461453e1",
   "metadata": {},
   "outputs": [],
   "source": [
    "gene.activities <- GeneActivity(pbmc)"
   ]
  },
  {
   "cell_type": "code",
   "execution_count": null,
   "id": "fef5ae91-136d-49bf-aacd-4440e218a300",
   "metadata": {},
   "outputs": [],
   "source": [
    "pbmc[['RNA']] <- CreateAssayObject(counts = gene.activities)\n",
    "pbmc <- NormalizeData(\n",
    "  object = pbmc,\n",
    "  assay = 'RNA',\n",
    "  normalization.method = 'LogNormalize',\n",
    "  scale.factor = median(pbmc$nCount_RNA)\n",
    ")"
   ]
  },
  {
   "cell_type": "code",
   "execution_count": null,
   "id": "9e018cb3-f9e5-4d56-b5ab-0cfc256a9dd0",
   "metadata": {},
   "outputs": [],
   "source": [
    "DefaultAssay(pbmc) <- 'RNA'"
   ]
  },
  {
   "cell_type": "code",
   "execution_count": null,
   "id": "bd318937-e0ee-4664-a657-23a823da2498",
   "metadata": {},
   "outputs": [],
   "source": [
    "rna <- pbmc[['RNA']]"
   ]
  },
  {
   "cell_type": "code",
   "execution_count": null,
   "id": "a707ec02-b465-45e1-b11b-57bb48c1eab8",
   "metadata": {},
   "outputs": [],
   "source": [
    "seurat_obj <- CreateSeuratObject(counts = pbmc[['RNA']])"
   ]
  },
  {
   "cell_type": "code",
   "execution_count": null,
   "id": "3ed80eed-204f-4de8-a587-809eec2e4733",
   "metadata": {},
   "outputs": [],
   "source": [
    "seurat_obj[[\"RNA\"]] <- pbmc[['RNA']]"
   ]
  },
  {
   "cell_type": "code",
   "execution_count": null,
   "id": "f58754fd-9d43-4e27-81bb-2f405f10dd29",
   "metadata": {},
   "outputs": [],
   "source": [
    "seurat_obj"
   ]
  },
  {
   "cell_type": "code",
   "execution_count": null,
   "id": "97618cd8-e5de-41e8-87bf-30fa2450b996",
   "metadata": {},
   "outputs": [],
   "source": []
  }
 ],
 "metadata": {
  "kernelspec": {
   "display_name": "R",
   "language": "R",
   "name": "ir"
  },
  "language_info": {
   "codemirror_mode": "r",
   "file_extension": ".r",
   "mimetype": "text/x-r-source",
   "name": "R",
   "pygments_lexer": "r",
   "version": "4.3.1"
  }
 },
 "nbformat": 4,
 "nbformat_minor": 5
}
