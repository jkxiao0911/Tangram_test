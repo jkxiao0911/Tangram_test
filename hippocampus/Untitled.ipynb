{
 "cells": [
  {
   "cell_type": "code",
   "execution_count": 1,
   "id": "d0ce1c44-795a-4f48-b78e-801761ccd6fe",
   "metadata": {},
   "outputs": [],
   "source": [
    "import scanpy as sc\n",
    "adata_sc = sc.read_h5ad(\"/mnt/disk1/xzhou/data/multi-omics/Hippocampus/scRefSubsampled1000_hippocampus.h5ad\")"
   ]
  },
  {
   "cell_type": "code",
   "execution_count": 2,
   "id": "d232d1de-2eee-4859-89eb-492483c9b13b",
   "metadata": {},
   "outputs": [
    {
     "data": {
      "text/plain": [
       "AnnData object with n_obs × n_vars = 15095 × 27953\n",
       "    obs: 'orig.ident', 'nCount_RNA', 'nFeature_RNA', 'liger_ident_coarse'\n",
       "    var: 'features'"
      ]
     },
     "execution_count": 2,
     "metadata": {},
     "output_type": "execute_result"
    }
   ],
   "source": [
    "adata_sc"
   ]
  },
  {
   "cell_type": "code",
   "execution_count": null,
   "id": "e7ef7aa8-f341-4581-ab93-a3320c420d9c",
   "metadata": {},
   "outputs": [],
   "source": []
  }
 ],
 "metadata": {
  "kernelspec": {
   "display_name": "Tangram",
   "language": "python",
   "name": "tangram"
  },
  "language_info": {
   "codemirror_mode": {
    "name": "ipython",
    "version": 3
   },
   "file_extension": ".py",
   "mimetype": "text/x-python",
   "name": "python",
   "nbconvert_exporter": "python",
   "pygments_lexer": "ipython3",
   "version": "3.8.8"
  }
 },
 "nbformat": 4,
 "nbformat_minor": 5
}
