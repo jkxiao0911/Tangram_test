{
 "cells": [
  {
   "cell_type": "code",
   "execution_count": 18,
   "id": "dc41ee49-06d2-4aae-80aa-9b983ea540bd",
   "metadata": {
    "tags": []
   },
   "outputs": [],
   "source": [
    "library(ArchR)"
   ]
  },
  {
   "cell_type": "code",
   "execution_count": 19,
   "id": "c2c0abc8-6ea7-44fe-9251-ea83c496217b",
   "metadata": {},
   "outputs": [
    {
     "name": "stderr",
     "output_type": "stream",
     "text": [
      "Setting default number of Parallel threads to 48.\n",
      "\n"
     ]
    }
   ],
   "source": [
    "addArchRThreads(threads = 48)"
   ]
  },
  {
   "cell_type": "code",
   "execution_count": 20,
   "id": "d2e13d4b-1774-45d1-a248-0d875524208d",
   "metadata": {},
   "outputs": [
    {
     "name": "stderr",
     "output_type": "stream",
     "text": [
      "Setting default genome to Hg19.\n",
      "\n"
     ]
    }
   ],
   "source": [
    "addArchRGenome(\"hg19\")"
   ]
  },
  {
   "cell_type": "code",
   "execution_count": 21,
   "id": "0102670e-6d5c-4065-8a19-dc88cbab60d4",
   "metadata": {},
   "outputs": [
    {
     "name": "stderr",
     "output_type": "stream",
     "text": [
      "filterFrags is no longer a valid input. Please use minFrags! Setting filterFrags value to minFrags!\n",
      "\n",
      "filterTSS is no longer a valid input. Please use minTSS! Setting filterTSS value to minTSS!\n",
      "\n",
      "Using GeneAnnotation set by addArchRGenome(Hg19)!\n",
      "\n",
      "Using GeneAnnotation set by addArchRGenome(Hg19)!\n",
      "\n",
      "ArchR logging to : ArchRLogs/ArchR-createArrows-12f8417e999bfb-Date-2023-09-19_Time-15-11-21.517342.log\n",
      "If there is an issue, please report to github with logFile!\n",
      "\n",
      "Cleaning Temporary Files\n",
      "\n",
      "2023-09-19 15:11:21.661225 : Batch Execution w/ safelapply!, 0 mins elapsed.\n",
      "\n",
      "(GSM5138548_RL2085_20y_snATAC_fragments : 1 of 1) Checking if completed file exists!\n",
      "\n",
      "2023-09-19 15:11:21.754629 : (GSM5138548_RL2085_20y_snATAC_fragments : 1 of 1) Arrow Exists! Marking as completed since force = FALSE!, 0.002 mins elapsed.\n",
      "\n",
      "ArchR logging successful to : ArchRLogs/ArchR-createArrows-12f8417e999bfb-Date-2023-09-19_Time-15-11-21.517342.log\n",
      "\n"
     ]
    }
   ],
   "source": [
    "# 设置文件路径和样本名称\n",
    "file_path <- \"/mnt/disk1/xiaojk/data/DLPFC/GSM5138548_RL2085_20y_snATAC_fragments.tsv.gz\"\n",
    "sample_name <- \"GSM5138548_RL2085_20y_snATAC_fragments\"\n",
    "\n",
    "# 将文件路径和样本名称添加到相应的变量中\n",
    "inputFiles <- c(file_path)\n",
    "sampleNames <- c(sample_name)\n",
    "\n",
    "# 调用createArrowFiles函数\n",
    "ArrowFiles <- createArrowFiles(\n",
    "  inputFiles = inputFiles,\n",
    "  sampleNames = sampleNames,\n",
    "  filterTSS = 4,\n",
    "  filterFrags = 1000,\n",
    "  addTileMat = TRUE,\n",
    "  addGeneScoreMat = TRUE\n",
    ")"
   ]
  },
  {
   "cell_type": "code",
   "execution_count": 22,
   "id": "efdff6c1-281f-4adb-b845-0e964d4d1244",
   "metadata": {},
   "outputs": [
    {
     "data": {
      "text/html": [
       "'GSM5138548_RL2085_20y_snATAC_fragments.arrow'"
      ],
      "text/latex": [
       "'GSM5138548\\_RL2085\\_20y\\_snATAC\\_fragments.arrow'"
      ],
      "text/markdown": [
       "'GSM5138548_RL2085_20y_snATAC_fragments.arrow'"
      ],
      "text/plain": [
       "[1] \"GSM5138548_RL2085_20y_snATAC_fragments.arrow\""
      ]
     },
     "metadata": {},
     "output_type": "display_data"
    }
   ],
   "source": [
    "ArrowFiles"
   ]
  },
  {
   "cell_type": "code",
   "execution_count": 23,
   "id": "ee225c88-3e55-429e-8efd-b9e41fae8a4f",
   "metadata": {
    "tags": []
   },
   "outputs": [
    {
     "name": "stderr",
     "output_type": "stream",
     "text": [
      "Using GeneAnnotation set by addArchRGenome(Hg19)!\n",
      "\n",
      "Using GeneAnnotation set by addArchRGenome(Hg19)!\n",
      "\n",
      "Validating Arrows...\n",
      "\n",
      "Getting SampleNames...\n",
      "\n",
      "1 \n",
      "\n",
      "\n",
      "Copying ArrowFiles to Ouptut Directory! If you want to save disk space set copyArrows = FALSE\n",
      "\n",
      "1 \n",
      "\n",
      "\n",
      "Getting Cell Metadata...\n",
      "\n",
      "1 \n",
      "\n",
      "\n",
      "Merging Cell Metadata...\n",
      "\n",
      "Initializing ArchRProject...\n",
      "\n",
      "\n",
      "                                                   / |\n",
      "                                                 /    \\\n",
      "            .                                  /      |.\n",
      "            \\\\\\                              /        |.\n",
      "              \\\\\\                          /           `|.\n",
      "                \\\\\\                      /              |.\n",
      "                  \\                    /                |\\\n",
      "                  \\\\#####\\           /                  ||\n",
      "                ==###########>      /                   ||\n",
      "                 \\\\##==......\\    /                     ||\n",
      "            ______ =       =|__ /__                     ||      \\\\\\\n",
      "        ,--' ,----`-,__ ___/'  --,-`-===================##========>\n",
      "       \\               '        ##_______ _____ ,--,__,=##,__   ///\n",
      "        ,    __==    ___,-,__,--'#'  ==='      `-'    | ##,-/\n",
      "        -,____,---'       \\\\####\\\\________________,--\\\\_##,/\n",
      "           ___      .______        ______  __    __  .______      \n",
      "          /   \\     |   _  \\      /      ||  |  |  | |   _  \\     \n",
      "         /  ^  \\    |  |_)  |    |  ,----'|  |__|  | |  |_)  |    \n",
      "        /  /_\\  \\   |      /     |  |     |   __   | |      /     \n",
      "       /  _____  \\  |  |\\  \\\\___ |  `----.|  |  |  | |  |\\  \\\\___.\n",
      "      /__/     \\__\\ | _| `._____| \\______||__|  |__| | _| `._____|\n",
      "    \n",
      "\n"
     ]
    }
   ],
   "source": [
    "projDLPFC1 <- ArchRProject(\n",
    "  ArrowFiles = ArrowFiles,\n",
    "  outputDirectory = \"/mnt/disk1/xiaojk/data/DLPFC/\",\n",
    "  copyArrows = TRUE #This is recommened so that if you modify the Arrow files you have an original copy for later usage.\n",
    ")"
   ]
  },
  {
   "cell_type": "code",
   "execution_count": 24,
   "id": "eaade92d-becd-4956-a668-1c82f4d89159",
   "metadata": {},
   "outputs": [
    {
     "name": "stderr",
     "output_type": "stream",
     "text": [
      "\n",
      "           ___      .______        ______  __    __  .______      \n",
      "          /   \\     |   _  \\      /      ||  |  |  | |   _  \\     \n",
      "         /  ^  \\    |  |_)  |    |  ,----'|  |__|  | |  |_)  |    \n",
      "        /  /_\\  \\   |      /     |  |     |   __   | |      /     \n",
      "       /  _____  \\  |  |\\  \\\\___ |  `----.|  |  |  | |  |\\  \\\\___.\n",
      "      /__/     \\__\\ | _| `._____| \\______||__|  |__| | _| `._____|\n",
      "    \n",
      "\n"
     ]
    },
    {
     "data": {
      "text/plain": [
       "class: ArchRProject \n",
       "outputDirectory: /mnt/disk1/xiaojk/data/DLPFC \n",
       "samples(1): GSM5138548_RL2085_20y_snATAC_fragments\n",
       "sampleColData names(1): ArrowFiles\n",
       "cellColData names(13): Sample TSSEnrichment ... nDiFrags BlacklistRatio\n",
       "numberOfCells(1): 6940\n",
       "medianTSS(1): 10.4915\n",
       "medianFrags(1): 9163"
      ]
     },
     "metadata": {},
     "output_type": "display_data"
    }
   ],
   "source": [
    "projDLPFC1"
   ]
  },
  {
   "cell_type": "code",
   "execution_count": 25,
   "id": "e5ea5ad5-b281-4690-879d-11990fcedf49",
   "metadata": {},
   "outputs": [
    {
     "data": {
      "text/html": [
       "'Memory Size = 36.67 MB'"
      ],
      "text/latex": [
       "'Memory Size = 36.67 MB'"
      ],
      "text/markdown": [
       "'Memory Size = 36.67 MB'"
      ],
      "text/plain": [
       "[1] \"Memory Size = 36.67 MB\""
      ]
     },
     "metadata": {},
     "output_type": "display_data"
    },
    {
     "data": {
      "text/html": [
       "<style>\n",
       ".list-inline {list-style: none; margin:0; padding: 0}\n",
       ".list-inline>li {display: inline-block}\n",
       ".list-inline>li:not(:last-child)::after {content: \"\\00b7\"; padding: 0 .5ex}\n",
       "</style>\n",
       "<ol class=list-inline><li>'GeneScoreMatrix'</li><li>'TileMatrix'</li></ol>\n"
      ],
      "text/latex": [
       "\\begin{enumerate*}\n",
       "\\item 'GeneScoreMatrix'\n",
       "\\item 'TileMatrix'\n",
       "\\end{enumerate*}\n"
      ],
      "text/markdown": [
       "1. 'GeneScoreMatrix'\n",
       "2. 'TileMatrix'\n",
       "\n",
       "\n"
      ],
      "text/plain": [
       "[1] \"GeneScoreMatrix\" \"TileMatrix\"     "
      ]
     },
     "metadata": {},
     "output_type": "display_data"
    }
   ],
   "source": [
    "paste0(\"Memory Size = \", round(object.size(projDLPFC1) / 10^6, 3), \" MB\")\n",
    "getAvailableMatrices(projDLPFC1)"
   ]
  },
  {
   "cell_type": "code",
   "execution_count": 9,
   "id": "21b79cde-5eaf-40c7-af8d-1cd50114c89b",
   "metadata": {},
   "outputs": [
    {
     "name": "stderr",
     "output_type": "stream",
     "text": [
      "Checking Inputs...\n",
      "\n",
      "ArchR logging to : ArchRLogs/ArchR-addIterativeLSI-12f841422bd6f8-Date-2023-08-17_Time-18-41-50.504893.log\n",
      "If there is an issue, please report to github with logFile!\n",
      "\n",
      "2023-08-17 18:41:50.665772 : Computing Total Across All Features, 0.001 mins elapsed.\n",
      "\n",
      "2023-08-17 18:41:52.380106 : Computing Top Features, 0.029 mins elapsed.\n",
      "\n",
      "###########\n",
      "2023-08-17 18:41:53.598807 : Running LSI (1 of 2) on Top Features, 0.049 mins elapsed.\n",
      "###########\n",
      "\n",
      "2023-08-17 18:41:53.613891 : Creating Partial Matrix, 0.05 mins elapsed.\n",
      "\n",
      "2023-08-17 18:42:12.342488 : Computing LSI, 0.362 mins elapsed.\n",
      "\n",
      "2023-08-17 18:43:02.109652 : Identifying Clusters, 1.191 mins elapsed.\n",
      "\n",
      "2023-08-17 18:43:13.059183 : Identified 7 Clusters, 1.374 mins elapsed.\n",
      "\n",
      "2023-08-17 18:43:13.075676 : Saving LSI Iteration, 1.374 mins elapsed.\n",
      "\n",
      "2023-08-17 18:43:27.779097 : Creating Cluster Matrix on the total Group Features, 1.619 mins elapsed.\n",
      "\n",
      "2023-08-17 18:43:35.566083 : Computing Variable Features, 1.749 mins elapsed.\n",
      "\n",
      "###########\n",
      "2023-08-17 18:43:35.759249 : Running LSI (2 of 2) on Variable Features, 1.752 mins elapsed.\n",
      "###########\n",
      "\n",
      "2023-08-17 18:43:35.777131 : Creating Partial Matrix, 1.752 mins elapsed.\n",
      "\n",
      "2023-08-17 18:43:54.672988 : Computing LSI, 2.067 mins elapsed.\n",
      "\n",
      "2023-08-17 18:44:40.543978 : Finished Running IterativeLSI, 2.832 mins elapsed.\n",
      "\n"
     ]
    }
   ],
   "source": [
    "projDLPFC1 <- addIterativeLSI(\n",
    "    ArchRProj = projDLPFC1,\n",
    "    useMatrix = \"TileMatrix\", \n",
    "    name = \"IterativeLSI\", \n",
    "    iterations = 2, \n",
    "    clusterParams = list( #See Seurat::FindClusters\n",
    "        resolution = c(0.2), \n",
    "        sampleCells = 10000, \n",
    "        n.start = 10\n",
    "    ), \n",
    "    varFeatures = 25000, \n",
    "    dimsToUse = 1:30\n",
    ")"
   ]
  },
  {
   "cell_type": "code",
   "execution_count": 10,
   "id": "662f3766-5318-48b7-9480-2cc9bfa5642a",
   "metadata": {},
   "outputs": [
    {
     "name": "stderr",
     "output_type": "stream",
     "text": [
      "ArchR logging to : ArchRLogs/ArchR-addClusters-12f84111350719-Date-2023-08-17_Time-18-44-40.571428.log\n",
      "If there is an issue, please report to github with logFile!\n",
      "\n",
      "2023-08-17 18:44:40.752608 : Running Seurats FindClusters (Stuart et al. Cell 2019), 0.001 mins elapsed.\n",
      "\n",
      "Computing nearest neighbor graph\n",
      "\n",
      "Computing SNN\n",
      "\n"
     ]
    },
    {
     "name": "stdout",
     "output_type": "stream",
     "text": [
      "Modularity Optimizer version 1.3.0 by Ludo Waltman and Nees Jan van Eck\n",
      "\n",
      "Number of nodes: 6940\n",
      "Number of edges: 419631\n",
      "\n",
      "Running Louvain algorithm...\n",
      "Maximum modularity in 10 random starts: 0.8769\n",
      "Number of communities: 12\n",
      "Elapsed time: 0 seconds\n"
     ]
    },
    {
     "name": "stderr",
     "output_type": "stream",
     "text": [
      "2023-08-17 18:44:49.526374 : Testing Biased Clusters, 0.148 mins elapsed.\n",
      "\n",
      "2023-08-17 18:44:49.56233 : Testing Outlier Clusters, 0.148 mins elapsed.\n",
      "\n",
      "2023-08-17 18:44:49.56497 : Assigning Cluster Names to 12 Clusters, 0.148 mins elapsed.\n",
      "\n",
      "2023-08-17 18:44:49.632112 : Finished addClusters, 0.149 mins elapsed.\n",
      "\n"
     ]
    }
   ],
   "source": [
    "projDLPFC1 <- addClusters(\n",
    "    input = projDLPFC1,\n",
    "    reducedDims = \"IterativeLSI\",\n",
    "    method = \"Seurat\",\n",
    "    name = \"Clusters\",\n",
    "    resolution = 0.8\n",
    ")"
   ]
  },
  {
   "cell_type": "code",
   "execution_count": 11,
   "id": "3343bc3e-d547-476b-9996-b949e6cca7fc",
   "metadata": {},
   "outputs": [
    {
     "data": {
      "text/html": [
       "<style>\n",
       ".list-inline {list-style: none; margin:0; padding: 0}\n",
       ".list-inline>li {display: inline-block}\n",
       ".list-inline>li:not(:last-child)::after {content: \"\\00b7\"; padding: 0 .5ex}\n",
       "</style>\n",
       "<ol class=list-inline><li>'C11'</li><li>'C8'</li><li>'C4'</li><li>'C5'</li><li>'C4'</li><li>'C5'</li></ol>\n"
      ],
      "text/latex": [
       "\\begin{enumerate*}\n",
       "\\item 'C11'\n",
       "\\item 'C8'\n",
       "\\item 'C4'\n",
       "\\item 'C5'\n",
       "\\item 'C4'\n",
       "\\item 'C5'\n",
       "\\end{enumerate*}\n"
      ],
      "text/markdown": [
       "1. 'C11'\n",
       "2. 'C8'\n",
       "3. 'C4'\n",
       "4. 'C5'\n",
       "5. 'C4'\n",
       "6. 'C5'\n",
       "\n",
       "\n"
      ],
      "text/plain": [
       "[1] \"C11\" \"C8\"  \"C4\"  \"C5\"  \"C4\"  \"C5\" "
      ]
     },
     "metadata": {},
     "output_type": "display_data"
    },
    {
     "data": {
      "text/plain": [
       "\n",
       "  C1  C10  C11  C12   C2   C3   C4   C5   C6   C7   C8   C9 \n",
       " 798  857  196 1147  375  403  855  940   47  577  340  405 "
      ]
     },
     "metadata": {},
     "output_type": "display_data"
    }
   ],
   "source": [
    "head(projDLPFC1$Clusters)\n",
    "table(projDLPFC1$Clusters)"
   ]
  },
  {
   "cell_type": "code",
   "execution_count": 12,
   "id": "3cdd3971-38c4-41c4-a0e6-71b4e3e17525",
   "metadata": {
    "tags": []
   },
   "outputs": [
    {
     "name": "stderr",
     "output_type": "stream",
     "text": [
      "ArchR logging to : ArchRLogs/ArchR-addGroupCoverages-12f841494226e6-Date-2023-08-17_Time-18-44-49.66574.log\n",
      "If there is an issue, please report to github with logFile!\n",
      "\n",
      "C1 (1 of 12) : CellGroups N = 2\n",
      "\n",
      "C2 (2 of 12) : CellGroups N = 2\n",
      "\n",
      "C3 (3 of 12) : CellGroups N = 2\n",
      "\n",
      "C4 (4 of 12) : CellGroups N = 2\n",
      "\n",
      "C5 (5 of 12) : CellGroups N = 2\n",
      "\n",
      "C6 (6 of 12) : CellGroups N = 2\n",
      "\n",
      "C7 (7 of 12) : CellGroups N = 2\n",
      "\n",
      "C8 (8 of 12) : CellGroups N = 2\n",
      "\n",
      "C9 (9 of 12) : CellGroups N = 2\n",
      "\n",
      "C10 (10 of 12) : CellGroups N = 2\n",
      "\n",
      "C11 (11 of 12) : CellGroups N = 2\n",
      "\n",
      "C12 (12 of 12) : CellGroups N = 2\n",
      "\n",
      "2023-08-17 18:44:50.715198 : Creating Coverage Files!, 0.017 mins elapsed.\n",
      "\n",
      "2023-08-17 18:44:50.717178 : Batch Execution w/ safelapply!, 0.018 mins elapsed.\n",
      "\n",
      "2023-08-17 18:45:36.059184 : Adding Kmer Bias to Coverage Files!, 0.773 mins elapsed.\n",
      "\n",
      "Completed Kmer Bias Calculation\n",
      "\n",
      "Adding Kmer Bias (1 of 24)\n",
      "\n",
      "Adding Kmer Bias (2 of 24)\n",
      "\n",
      "Adding Kmer Bias (3 of 24)\n",
      "\n",
      "Adding Kmer Bias (4 of 24)\n",
      "\n",
      "Adding Kmer Bias (5 of 24)\n",
      "\n",
      "Adding Kmer Bias (6 of 24)\n",
      "\n",
      "Adding Kmer Bias (7 of 24)\n",
      "\n",
      "Adding Kmer Bias (8 of 24)\n",
      "\n",
      "Adding Kmer Bias (9 of 24)\n",
      "\n",
      "Adding Kmer Bias (10 of 24)\n",
      "\n",
      "Adding Kmer Bias (11 of 24)\n",
      "\n",
      "Adding Kmer Bias (12 of 24)\n",
      "\n",
      "Adding Kmer Bias (13 of 24)\n",
      "\n",
      "Adding Kmer Bias (14 of 24)\n",
      "\n",
      "Adding Kmer Bias (15 of 24)\n",
      "\n",
      "Adding Kmer Bias (16 of 24)\n",
      "\n",
      "Adding Kmer Bias (17 of 24)\n",
      "\n",
      "Adding Kmer Bias (18 of 24)\n",
      "\n",
      "Adding Kmer Bias (19 of 24)\n",
      "\n",
      "Adding Kmer Bias (20 of 24)\n",
      "\n",
      "Adding Kmer Bias (21 of 24)\n",
      "\n",
      "Adding Kmer Bias (22 of 24)\n",
      "\n",
      "Adding Kmer Bias (23 of 24)\n",
      "\n",
      "Adding Kmer Bias (24 of 24)\n",
      "\n",
      "2023-08-17 18:46:21.899787 : Finished Creation of Coverage Files!, 1.537 mins elapsed.\n",
      "\n",
      "ArchR logging successful to : ArchRLogs/ArchR-addGroupCoverages-12f841494226e6-Date-2023-08-17_Time-18-44-49.66574.log\n",
      "\n"
     ]
    }
   ],
   "source": [
    "projDLPFC1 <- addGroupCoverages(ArchRProj = projDLPFC1, groupBy = \"Clusters\")"
   ]
  },
  {
   "cell_type": "code",
   "execution_count": 13,
   "id": "760ea95c-2c75-46d7-b1fb-530f6d65727f",
   "metadata": {},
   "outputs": [
    {
     "name": "stderr",
     "output_type": "stream",
     "text": [
      "ArchR logging to : ArchRLogs/ArchR-addReproduciblePeakSet-12f8413ebd7624-Date-2023-08-17_Time-18-46-22.228563.log\n",
      "If there is an issue, please report to github with logFile!\n",
      "\n",
      "Calling Peaks with Macs2\n",
      "\n",
      "2023-08-17 18:46:22.385656 : Peak Calling Parameters!, 0.003 mins elapsed.\n",
      "\n"
     ]
    },
    {
     "name": "stdout",
     "output_type": "stream",
     "text": [
      "    Group nCells nCellsUsed nReplicates nMin nMax maxPeaks\n",
      "C1     C1    798        540           2   40  500   150000\n",
      "C2     C2    375        375           2   40  335   150000\n",
      "C3     C3    403        403           2   40  363   150000\n",
      "C4     C4    855        540           2   40  500   150000\n",
      "C5     C5    940        540           2   40  500   150000\n",
      "C6     C6     47         41           2   23   26    20500\n",
      "C7     C7    577        540           2   40  500   150000\n",
      "C8     C8    340        340           2   40  300   150000\n",
      "C9     C9    405        405           2   40  365   150000\n",
      "C10   C10    857        540           2   40  500   150000\n",
      "C11   C11    196        196           2   40  156    98000\n",
      "C12   C12   1147        540           2   40  500   150000\n"
     ]
    },
    {
     "name": "stderr",
     "output_type": "stream",
     "text": [
      "2023-08-17 18:46:22.394079 : Batching Peak Calls!, 0.003 mins elapsed.\n",
      "\n",
      "2023-08-17 18:46:22.40161 : Batch Execution w/ safelapply!, 0 mins elapsed.\n",
      "\n",
      "2023-08-17 18:49:02.980287 : Identifying Reproducible Peaks!, 2.679 mins elapsed.\n",
      "\n",
      "2023-08-17 18:49:09.846745 : Creating Union Peak Set!, 2.794 mins elapsed.\n",
      "\n",
      "Converged after 5 iterations!\n",
      "\n",
      "Plotting Ggplot!\n",
      "\n",
      "2023-08-17 18:49:18.114217 : Finished Creating Union Peak Set (228269)!, 2.931 mins elapsed.\n",
      "\n"
     ]
    }
   ],
   "source": [
    "pathToMacs2 <- \"/mnt/disk1/xiaojk/anaconda/envs/ArchR/bin/macs2\"\n",
    "projDLPFC1 <- addReproduciblePeakSet(\n",
    "    ArchRProj = projDLPFC1, \n",
    "    groupBy = \"Clusters\", \n",
    "    pathToMacs2 = pathToMacs2\n",
    ")"
   ]
  },
  {
   "cell_type": "code",
   "execution_count": 14,
   "id": "7def06c9-ccb0-4068-8e27-110ed2627352",
   "metadata": {},
   "outputs": [
    {
     "data": {
      "text/plain": [
       "GRanges object with 228269 ranges and 13 metadata columns:\n",
       "      seqnames              ranges strand |     score replicateScoreQuantile\n",
       "         <Rle>           <IRanges>  <Rle> | <numeric>              <numeric>\n",
       "   C1     chr1       752484-752984      * |   4.84273                  0.839\n",
       "   C7     chr1       753197-753697      * |   5.54167                  0.580\n",
       "  C10     chr1       754100-754600      * |   2.48002                  0.559\n",
       "   C4     chr1       762701-763201      * |  10.37470                  0.964\n",
       "   C6     chr1       773670-774170      * |   2.59230                  0.601\n",
       "  ...      ...                 ...    ... .       ...                    ...\n",
       "   C3     chrX 154849018-154849518      * |   2.89553                  0.349\n",
       "  C10     chrX 154902734-154903234      * |   2.48002                  0.559\n",
       "   C7     chrX 154948551-154949051      * |   4.53534                  0.681\n",
       "  C10     chrX 154997020-154997520      * |   4.27735                  0.880\n",
       "   C4     chrX 154997643-154998143      * |   5.49155                  0.831\n",
       "      groupScoreQuantile Reproducibility GroupReplicate distToGeneStart\n",
       "               <numeric>       <numeric>    <character>       <integer>\n",
       "   C1              0.539               2      C1._.Rep2           10167\n",
       "   C7              0.178               2      C7._.Rep1            9454\n",
       "  C10              0.190               2     C10._.Rep2            8551\n",
       "   C4              0.875               2      C4._.Rep2              19\n",
       "   C6              0.601              NA      C6._.Rep1           10948\n",
       "  ...                ...             ...            ...             ...\n",
       "   C3              0.057               2      C3._.Rep2            6645\n",
       "  C10              0.190               2     C10._.Rep2           60361\n",
       "   C7              0.253               2      C7._.Rep2          106178\n",
       "  C10              0.582               2     C10._.Rep2          154647\n",
       "   C4              0.542               2      C4._.Rep2          155270\n",
       "      nearestGene    peakType distToTSS  nearestTSS        GC       idx\n",
       "      <character> <character> <integer> <character> <numeric> <integer>\n",
       "   C1   LINC00115      Distal     10167  uc010nxx.2    0.4810         1\n",
       "   C7   LINC00115      Distal      9454  uc010nxx.2    0.5230         2\n",
       "  C10   LINC00115      Distal      8551  uc010nxx.2    0.5369         3\n",
       "   C4   LINC01128    Promoter        19  uc031pjj.1    0.6986         4\n",
       "   C6   LINC01128    Intronic     10741  uc031pjk.1    0.4571         5\n",
       "  ...         ...         ...       ...         ...       ...       ...\n",
       "   C3       TMLHE      Distal      6645  uc004fnn.3    0.2754      4492\n",
       "  C10       TMLHE      Distal     60361  uc004fnn.3    0.3613      4493\n",
       "   C7       TMLHE      Distal     48649  uc004fnq.1    0.4591      4494\n",
       "  C10       TMLHE      Distal       180  uc004fnq.1    0.5329      4495\n",
       "   C4       TMLHE      Distal       441  uc004fnq.1    0.4212      4496\n",
       "              N\n",
       "      <numeric>\n",
       "   C1         0\n",
       "   C7         0\n",
       "  C10         0\n",
       "   C4         0\n",
       "   C6         0\n",
       "  ...       ...\n",
       "   C3         0\n",
       "  C10         0\n",
       "   C7         0\n",
       "  C10         0\n",
       "   C4         0\n",
       "  -------\n",
       "  seqinfo: 23 sequences from an unspecified genome; no seqlengths"
      ]
     },
     "metadata": {},
     "output_type": "display_data"
    }
   ],
   "source": [
    "peakSet <- getPeakSet(projDLPFC1)\n",
    "peakSet"
   ]
  },
  {
   "cell_type": "code",
   "execution_count": null,
   "id": "5aa421ea-211a-494d-9e64-c3d234574095",
   "metadata": {
    "tags": []
   },
   "outputs": [],
   "source": []
  },
  {
   "cell_type": "code",
   "execution_count": 26,
   "id": "d9ba094b-a2b4-4a4d-9305-f89d34925060",
   "metadata": {},
   "outputs": [
    {
     "data": {
      "text/html": [
       "<style>\n",
       ".list-inline {list-style: none; margin:0; padding: 0}\n",
       ".list-inline>li {display: inline-block}\n",
       ".list-inline>li:not(:last-child)::after {content: \"\\00b7\"; padding: 0 .5ex}\n",
       "</style>\n",
       "<ol class=list-inline><li>'GeneScoreMatrix'</li><li>'TileMatrix'</li></ol>\n"
      ],
      "text/latex": [
       "\\begin{enumerate*}\n",
       "\\item 'GeneScoreMatrix'\n",
       "\\item 'TileMatrix'\n",
       "\\end{enumerate*}\n"
      ],
      "text/markdown": [
       "1. 'GeneScoreMatrix'\n",
       "2. 'TileMatrix'\n",
       "\n",
       "\n"
      ],
      "text/plain": [
       "[1] \"GeneScoreMatrix\" \"TileMatrix\"     "
      ]
     },
     "metadata": {},
     "output_type": "display_data"
    }
   ],
   "source": [
    "getAvailableMatrices(projDLPFC1)"
   ]
  },
  {
   "cell_type": "code",
   "execution_count": 27,
   "id": "80d89ecd-d79d-494e-9cab-7033beb934f6",
   "metadata": {},
   "outputs": [
    {
     "ename": "ERROR",
     "evalue": "Error in eval(expr, envir, enclos): object 'seqnames_info' not found\n",
     "output_type": "error",
     "traceback": [
      "Error in eval(expr, envir, enclos): object 'seqnames_info' not found\nTraceback:\n",
      "1. paste(seqnames_info, ranges_info, sep = \"-\")",
      "2. standardGeneric(\"paste\")",
      "3. eval(quote(list(...)), env)",
      "4. eval(quote(list(...)), env)",
      "5. eval(quote(list(...)), env)"
     ]
    }
   ],
   "source": [
    "seqnames_ranges <- paste(seqnames_info, ranges_info, sep = \"-\")"
   ]
  },
  {
   "cell_type": "code",
   "execution_count": 28,
   "id": "87049e31-909e-405c-a259-f0be72224ed5",
   "metadata": {},
   "outputs": [
    {
     "name": "stderr",
     "output_type": "stream",
     "text": [
      "ArchR logging to : ArchRLogs/ArchR-getMatrixFromProject-12f8413479ffda-Date-2023-09-19_Time-15-11-54.303383.log\n",
      "If there is an issue, please report to github with logFile!\n",
      "\n",
      "2023-09-19 15:12:29.279223 : Organizing colData, 0.583 mins elapsed.\n",
      "\n",
      "2023-09-19 15:12:29.281608 : Organizing rowData, 0.583 mins elapsed.\n",
      "\n",
      "2023-09-19 15:12:29.284001 : Organizing rowRanges, 0.583 mins elapsed.\n",
      "\n",
      "2023-09-19 15:12:29.289242 : Organizing Assays (1 of 1), 0.583 mins elapsed.\n",
      "\n",
      "2023-09-19 15:12:29.294122 : Constructing SummarizedExperiment, 0.583 mins elapsed.\n",
      "\n",
      "2023-09-19 15:12:30.247652 : Finished Matrix Creation, 0.599 mins elapsed.\n",
      "\n"
     ]
    }
   ],
   "source": [
    "GeneScoreMatrix <- getMatrixFromProject(\n",
    "  ArchRProj = projDLPFC1,\n",
    "  useMatrix = \"GeneScoreMatrix\",\n",
    "  useSeqnames = NULL,\n",
    "  verbose = TRUE,\n",
    "  binarize = FALSE,\n",
    "  threads = getArchRThreads(),\n",
    "  logFile = createLogFile(\"getMatrixFromProject\")\n",
    ")"
   ]
  },
  {
   "cell_type": "code",
   "execution_count": 29,
   "id": "c3592a2b-8656-44a3-8dac-f3d4d5b7051c",
   "metadata": {},
   "outputs": [
    {
     "data": {
      "text/plain": [
       "class: SummarizedExperiment \n",
       "dim: 23127 6940 \n",
       "metadata(0):\n",
       "assays(1): GeneScoreMatrix\n",
       "rownames(23127): chr1-11874-14409 chr1-29961-14362 ...\n",
       "  chrX-154563986-154505500 chrX-154842622-154718673\n",
       "rowData names(6): seqnames start ... name idx\n",
       "colnames(6940):\n",
       "  GSM5138548_RL2085_20y_snATAC_fragments#GAAGTCTCATGCACTA-1\n",
       "  GSM5138548_RL2085_20y_snATAC_fragments#GTTGGTATCCCGCAAG-1 ...\n",
       "  GSM5138548_RL2085_20y_snATAC_fragments#GTAGTACAGGCGCTTC-1\n",
       "  GSM5138548_RL2085_20y_snATAC_fragments#AGTCCGGAGTGAGCTG-1\n",
       "colData names(13): BlacklistRatio nDiFrags ... Sample TSSEnrichment"
      ]
     },
     "metadata": {},
     "output_type": "display_data"
    }
   ],
   "source": [
    "seqnames_info <- rowData(GeneScoreMatrix)$seqnames\n",
    "start_info <- rowData(GeneScoreMatrix)$start\n",
    "end_info <- rowData(GeneScoreMatrix)$end\n",
    "seqnames_ranges <- paste(seqnames_info, start_info, end_info,sep = \"-\")\n",
    "rownames(GeneScoreMatrix) <- seqnames_ranges\n",
    "GeneScoreMatrix"
   ]
  },
  {
   "cell_type": "code",
   "execution_count": 30,
   "id": "090a5a6a-beb7-41e5-9034-58ff016e00ef",
   "metadata": {
    "tags": []
   },
   "outputs": [],
   "source": [
    "# 获取当前的列名\n",
    "current_colnames <- colnames(GeneScoreMatrix)\n",
    "# 使用正则表达式将列名中的前缀部分替换为空字符串\n",
    "new_colnames <- gsub(\"GSM5138548_\", \"\", current_colnames)\n",
    "new_colnames <- gsub(\"_20y_snATAC_fragments#\", \"#\", new_colnames)\n",
    "\n",
    "# 更新 RangedSummarizedExperiment 对象的列名\n",
    "colnames(GeneScoreMatrix) <- new_colnames"
   ]
  },
  {
   "cell_type": "code",
   "execution_count": 31,
   "id": "e7c8759c-f3e2-4f0a-aa14-2d2f1b339a5d",
   "metadata": {
    "tags": []
   },
   "outputs": [],
   "source": [
    "# 获取数据矩阵\n",
    "data_matrix <- assay(GeneScoreMatrix)\n",
    "# 将数据矩阵转换为稀疏矩阵\n",
    "sparse_matrix <- as(data_matrix, \"sparseMatrix\")\n",
    "# 矩阵转置"
   ]
  },
  {
   "cell_type": "code",
   "execution_count": 32,
   "id": "4d651857-5e5a-44ca-a947-287cc36b5dfa",
   "metadata": {
    "tags": []
   },
   "outputs": [
    {
     "name": "stderr",
     "output_type": "stream",
     "text": [
      "Warning message:\n",
      "“Non-unique features (rownames) present in the input matrix, making unique”\n"
     ]
    }
   ],
   "source": [
    "seurat_obj <- CreateSeuratObject(counts = sparse_matrix)\n",
    "obs_names <- colnames(seurat_obj)"
   ]
  },
  {
   "cell_type": "code",
   "execution_count": 33,
   "id": "7a1f111d-c410-4c51-a17b-65d41cf17dc2",
   "metadata": {
    "tags": []
   },
   "outputs": [],
   "source": [
    "var_names <- rownames(seurat_obj)"
   ]
  },
  {
   "cell_type": "code",
   "execution_count": 34,
   "id": "7bb5e428-b6c3-4288-95a9-b0fa7f55898f",
   "metadata": {
    "tags": []
   },
   "outputs": [],
   "source": [
    "rna_assay <- seurat_obj[[\"RNA\"]]\n",
    "\n",
    "# 查看 \"RNA\" assay 的值（前100个行和列）\n",
    "# print(rna_assay[1:100, 1:100])\n"
   ]
  },
  {
   "cell_type": "code",
   "execution_count": 35,
   "id": "e6b55742-9699-46de-9a0e-dd732230b0fd",
   "metadata": {},
   "outputs": [
    {
     "data": {
      "text/html": [
       "5262"
      ],
      "text/latex": [
       "5262"
      ],
      "text/markdown": [
       "5262"
      ],
      "text/plain": [
       "[1] 5262"
      ]
     },
     "metadata": {},
     "output_type": "display_data"
    }
   ],
   "source": [
    "#根据元数据对碱基序列进行细胞类型注释\n",
    "meta <- read.delim(\"/mnt/disk1/xiaojk/data/DLPFC/meta.tsv\", header = TRUE)\n",
    "obs_cell_types <- meta$cell_type[match(obs_names, meta$cellId)]\n",
    "cell_type_counts <- table(obs_cell_types)\n",
    "sum(cell_type_counts)"
   ]
  },
  {
   "cell_type": "code",
   "execution_count": null,
   "id": "e395749f-0ea0-4439-9fd6-737bafd6ebc6",
   "metadata": {
    "tags": []
   },
   "outputs": [],
   "source": [
    "# 获取匹配到的观测对象索引\n",
    "filtered_indices <- !is.na(obs_cell_types)\n",
    "# 使用 filtered_indices 子集化 Seurat 对象\n",
    "seurat_obj_filtered <- seurat_obj[,filtered_indices]\n",
    "seurat_obj_filtered$cell_type <- obs_cell_types[filtered_indices]\n",
    "seurat_obj_filtered"
   ]
  },
  {
   "cell_type": "code",
   "execution_count": null,
   "id": "291d960f-cf21-4ce6-8b95-51126f6c17cc",
   "metadata": {},
   "outputs": [],
   "source": [
    "#删除不必要的特征\n",
    "seurat_obj_filtered$orig.ident <- NULL\n",
    "seurat_obj_filtered$nCount_RNA <- NULL\n",
    "seurat_obj_filtered$nFeature_RNA <- NULL"
   ]
  },
  {
   "cell_type": "code",
   "execution_count": null,
   "id": "3a6f2ee7-ed65-492b-b053-072b85b72b92",
   "metadata": {},
   "outputs": [],
   "source": [
    "library(SeuratDisk)\n",
    "\n",
    "SaveH5Seurat(seurat_obj_filtered, filename = \"/mnt/disk1/xiaojk/data/DLPFC/seurat_data.h5Seurat\")\n",
    "Convert(\"/mnt/disk1/xiaojk/data/DLPFC/seurat_data.h5Seurat\",dest = \"h5ad\")"
   ]
  },
  {
   "cell_type": "code",
   "execution_count": null,
   "id": "6e4385c0-c2fa-4e24-b52d-9eb8c1957fec",
   "metadata": {},
   "outputs": [],
   "source": []
  },
  {
   "cell_type": "code",
   "execution_count": null,
   "id": "fc90eb36-afc8-4479-9ee6-3d1f41a3c9e4",
   "metadata": {},
   "outputs": [],
   "source": []
  }
 ],
 "metadata": {
  "kernelspec": {
   "display_name": "R",
   "language": "R",
   "name": "ir"
  },
  "language_info": {
   "codemirror_mode": "r",
   "file_extension": ".r",
   "mimetype": "text/x-r-source",
   "name": "R",
   "pygments_lexer": "r",
   "version": "4.3.1"
  }
 },
 "nbformat": 4,
 "nbformat_minor": 5
}
